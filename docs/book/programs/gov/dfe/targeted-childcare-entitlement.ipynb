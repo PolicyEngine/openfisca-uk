{
 "cells": [
  {
   "cell_type": "markdown",
   "metadata": {},
   "source": [
    "# Targeted childcare entitlement\n",
    "\n",
    "[Official government guidance](https://www.gov.uk/help-with-childcare-costs/free-childcare-2-year-olds-claim-benefits?step-by-step-nav=f237ec8e-e82c-4ffa-8fba-2a88a739783b) | [Legislation](https://www.legislation.gov.uk/uksi/2020/712/pdfs/uksiem_20200712_en.pdf)\n",
    "\n",
    "## Program description\n",
    "\n",
    "### Overview\n",
    "\n",
    "A targeted program providing free childcare for **2-year-olds** in England whose families meet certain eligibility criteria based on benefits receipt, special circumstances, or immigration status.\n",
    "\n",
    "### Eligibility requirements\n",
    "\n",
    "#### Benefit-based qualification\n",
    "Families receiving any of these benefits qualify:\n",
    "* **Income support**\n",
    "* **Income-based jobseeker's allowance** (JSA)\n",
    "* **Income-related employment and support allowance** (ESA)\n",
    "* **Universal credit** with annual household income of **£15,400** or less after tax\n",
    "* **Pension credit** (guaranteed element)\n",
    "* **Child tax credit** and/or **working tax credit** with annual household income of **£16,190** or less before tax\n",
    "* **Working tax credit** 4-week run-on payment\n",
    "\n",
    "#### Special circumstances\n",
    "Children automatically qualify if they:\n",
    "* Have an education, health and care (EHC) plan\n",
    "* Receive disability living allowance\n",
    "\n",
    "#### Immigration status\n",
    "For those with 'no recourse to public funds' status, income thresholds after tax are:\n",
    "\n",
    "| Family Type | Outside London | Within London |\n",
    "|------------|----------------|---------------|\n",
    "| Single child | **£26,500** | **£34,500** |\n",
    "| Multiple children | **£30,600** | **£38,600** |\n",
    "\n",
    "Additional requirement: Total savings and investments must not exceed **£16,000**\n",
    "\n",
    "### Additional rules\n",
    "\n",
    "#### Program restrictions\n",
    "* Cannot be combined with working parents' childcare scheme\n",
    "* Must apply through benefits-based program if eligible for both schemes\n",
    "* Eligibility verification required through local council or childcare provider\n",
    "\n",
    "### Regional scope\n",
    "\n",
    "This program applies to **England** only. Scotland, Wales, and Northern Ireland operate their own distinct childcare support schemes.\n",
    "\n",
    "## Implementation\n",
    "\n",
    "[This section will describe how the program is implemented in PolicyEngine]"
   ]
  }
 ],
 "metadata": {
  "kernelspec": {
   "display_name": "base",
   "language": "python",
   "name": "python3"
  },
  "language_info": {
   "name": "python",
   "version": "3.11.10"
  }
 },
 "nbformat": 4,
 "nbformat_minor": 2
}
