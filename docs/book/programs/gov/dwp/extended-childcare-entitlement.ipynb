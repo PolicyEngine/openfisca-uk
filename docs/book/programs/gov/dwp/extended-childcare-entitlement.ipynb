{
 "cells": [
  {
   "cell_type": "markdown",
   "metadata": {},
   "source": [
    "# Extended childcare entitlement\n",
    "\n",
    "[Official government guidance](https://www.gov.uk/check-eligible-free-childcare-if-youre-working?step-by-step-nav=f517cd57-3c18-4bb9-aa8b-1b907e279bf9) | [Legislation](https://www.legislation.gov.uk/uksi/2017/1160/pdfs/uksiem_20171160_en.pdf)\n",
    "\n",
    "## Program description\n",
    "\n",
    "### Overview\n",
    "\n",
    "The program provides free childcare hours based on the child's age:\n",
    "* Children aged **9 months to 2 years** receive **15 hours** of free childcare per week\n",
    "* Children aged **3 to 4 years** receive **30 hours** of free childcare per week\n",
    "\n",
    "### Eligibility requirements\n",
    "\n",
    "#### Work status\n",
    "Eligible individuals must be either employed or about to start employment. This includes those on qualifying leave types: **sick**, **annual**, **shared parental**, **maternity**, **paternity**, or **adoption** leave.\n",
    "\n",
    "Non-working partners may qualify if they receive: **incapacity benefit**, **severe disablement allowance**, **carer's allowance**, **limited capability for work benefit**, or **contribution-based employment and support allowance**.\n",
    "\n",
    "#### Income requirements\n",
    "Minimum earnings thresholds (per **3 months**) vary by age:\n",
    "\n",
    "| Age group | Minimum earnings | Weekly equivalent |\n",
    "|-----------|-----------------|-------------------|\n",
    "| **21+** | **£2,380** | **£183** |\n",
    "| **18-20** | **£1,788** | **£137** |\n",
    "| **Under 18/Apprentices** | **£1,331** | **£102** |\n",
    "\n",
    "These thresholds are based on national minimum wage calculations for **16 hours** per week.\n",
    "\n",
    "Maximum income limit: Adjusted net income must not exceed **£100,000** per year.\n",
    "\n",
    "### Additional rules\n",
    "\n",
    "#### Income assessment\n",
    "The program offers flexible income assessment:\n",
    "* Combines **multiple income sources**\n",
    "* Allows **annual income averaging**\n",
    "* Gives **self-employed** individuals choice between total or self-employment income\n",
    "\n",
    "Certain types of income are excluded from calculations: **dividends**, **interest**, **property income**, and **pension payments**.\n",
    "\n",
    "## Implementation\n",
    "\n",
    "[This section will describe how the program is implemented in PolicyEngine]"
   ]
  }
 ],
 "metadata": {
  "kernelspec": {
   "display_name": "base",
   "language": "python",
   "name": "python3"
  },
  "language_info": {
   "name": "python",
   "version": "3.11.10"
  }
 },
 "nbformat": 4,
 "nbformat_minor": 2
}
