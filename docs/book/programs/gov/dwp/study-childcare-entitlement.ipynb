{
 "cells": [
  {
   "cell_type": "markdown",
   "metadata": {},
   "source": [
    "# Study childcare entitlement\n",
    "\n",
    "[Official government guidance](https://www.gov.uk/care-to-learn)\n",
    "\n",
    "## Program description\n",
    "\n",
    "### Overview\n",
    "\n",
    "**Care to Learn** helps young parents with childcare costs while studying. The scheme is specifically designed for students aged **under 20** at the start of their course.\n",
    "\n",
    "### Financial support\n",
    "\n",
    "Maximum weekly support per child:\n",
    "| Location | Maximum amount |\n",
    "|----------|----------------|\n",
    "| Outside London | **£180** |\n",
    "| Within London | **£195** |\n",
    "\n",
    "### Eligibility requirements\n",
    "\n",
    "#### Basic criteria\n",
    "All of these must apply:\n",
    "* Aged **under 20** at course start\n",
    "* Living in England\n",
    "* Enrolled in a qualifying course\n",
    "\n",
    "#### Course eligibility\n",
    "Must be publicly-funded courses in England at:\n",
    "* Schools\n",
    "* Sixth-form institutions\n",
    "* Other colleges with Foundation Learning\n",
    "\n",
    "#### Exclusions\n",
    "Not available for:\n",
    "* Apprentices receiving a salary\n",
    "* Higher education courses (university or college)\n",
    "\n",
    "## Implementation\n",
    "\n",
    "[This section will describe how the program is implemented in PolicyEngine]"
   ]
  }
 ],
 "metadata": {
  "kernelspec": {
   "display_name": "base",
   "language": "python",
   "name": "python3"
  },
  "language_info": {
   "name": "python",
   "version": "3.11.10"
  }
 },
 "nbformat": 4,
 "nbformat_minor": 2
}
