{
 "cells": [
  {
   "cell_type": "markdown",
   "metadata": {},
   "source": [
    "# Tax-free childcare\n",
    "\n",
    "[Official government guidance](https://www.gov.uk/tax-free-childcare?step-by-step-nav=d78aeaf6-1747-4d72-9619-f16efb4dd89d) | [Legislation](https://www.legislation.gov.uk/ukdsi/2015/9780111127063)\n",
    "\n",
    "## Program description\n",
    "\n",
    "### Overview\n",
    "\n",
    "Tax-free childcare helps working families with childcare costs. For every **£8** paid into a childcare account, the government adds **£2**.\n",
    "\n",
    "The program provides financial support up to **£2,000** per year (**£500** per quarter) for each eligible child. For disabled children, this support increases to **£4,000** per year (**£1,000** per quarter).\n",
    "\n",
    "### Eligibility requirements\n",
    "\n",
    "#### Age criteria\n",
    "Standard childcare support extends until **September 1st** following the child's **11th** birthday. For **disabled children** who receive disability benefits or are certified as **blind/severely sight-impaired**, support continues until **September 1st** following their **16th** birthday.\n",
    "\n",
    "#### Income requirements\n",
    "Income thresholds apply at both ends of the spectrum. The maximum adjusted net income allowed is **£100,000** per year for each partner. Minimum earnings requirements (per **3 months**) vary by age:\n",
    "\n",
    "| Age group | Minimum earnings |\n",
    "|-----------|-----------------|\n",
    "| **21+** | **£2,379** |\n",
    "| **18-20** | **£1,788** |\n",
    "| **Under 18/Apprentices** | **£1,331** |\n",
    "\n",
    "#### Work status\n",
    "Eligible individuals must be either **employed**, **self-employed**, or on qualifying leave (**sick**, **annual**, or **shared parental leave**). Applications can be submitted if starting work within **31 days**.\n",
    "\n",
    "Non-working partners may still qualify if they receive any of these benefits: **incapacity benefit**, **severe disablement allowance**, **carer's allowance**, or **contribution-based employment and support allowance**.\n",
    "\n",
    "### Additional rules\n",
    "\n",
    "#### Income assessment\n",
    "The program offers flexible income assessment:\n",
    "* Combines **multiple income sources**\n",
    "* Allows **annual income averaging**\n",
    "* Gives **self-employed** individuals choice between total or self-employment income\n",
    "\n",
    "Certain types of income are excluded from calculations: **dividends**, **interest**, **property income**, and **pension payments**.\n",
    "\n",
    "#### Program interactions\n",
    "Tax-free childcare is compatible with the **15/30 hours free childcare** program but cannot be combined with:\n",
    "* **Working tax credit**\n",
    "* **Child tax credit**\n",
    "* **Universal credit**\n",
    "* **Childcare vouchers** or directly contracted childcare\n",
    "\n",
    "When approved for tax-free childcare:\n",
    "* Existing benefits terminate automatically\n",
    "* Childcare vouchers must be cancelled within **90 days**\n",
    "* **New self-employed** businesses (under **12 months**) benefit from more flexible earnings requirements\n",
    "\n",
    "## Implementation\n",
    "\n",
    "[This section will describe how the program is implemented in PolicyEngine]"
   ]
  }
 ],
 "metadata": {
  "kernelspec": {
   "display_name": "base",
   "language": "python",
   "name": "python3"
  },
  "language_info": {
   "name": "python",
   "version": "3.11.10"
  }
 },
 "nbformat": 4,
 "nbformat_minor": 2
}
