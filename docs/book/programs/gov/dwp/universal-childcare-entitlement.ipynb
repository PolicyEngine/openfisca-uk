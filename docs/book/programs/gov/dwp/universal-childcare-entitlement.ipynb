{
 "cells": [
  {
   "cell_type": "markdown",
   "metadata": {},
   "source": [
    "# Universal childcare entitlement\n",
    "\n",
    "[Official government guidance](https://www.gov.uk/help-with-childcare-costs/free-childcare-and-education-for-3-to-4-year-olds?step-by-step-nav=f237ec8e-e82c-4ffa-8fba-2a88a739783b) | [Legislation](https://researchbriefings.files.parliament.uk/documents/CBP-8054/CBP-8054.pdf.#:~:text=All%20three%20and%20four%2Dyear%2Dolds%20in%20England%20are%20eligible,and%20applies%20irrespective%20of%20income.)\n",
    "\n",
    "## Program description\n",
    "\n",
    "### Overview\n",
    "\n",
    "A universal program providing free childcare for all **3-4 year olds** in England. Each eligible child receives **570 hours** of free childcare annually, typically delivered as **15 hours** per week across **38 weeks** of the year. Parents may arrange different hour distributions if their provider offers flexibility.\n",
    "\n",
    "### Key features\n",
    "\n",
    "#### Provider requirements\n",
    "The free childcare must be delivered through an **approved childcare provider**.\n",
    "\n",
    "#### Regional scope\n",
    "\n",
    "This program applies to **England** only. Scotland, Wales, and Northern Ireland operate their own distinct childcare support schemes.\n",
    "\n",
    "## Implementation\n",
    "\n",
    "[This section will describe how the program is implemented in PolicyEngine]"
   ]
  }
 ],
 "metadata": {
  "kernelspec": {
   "display_name": "base",
   "language": "python",
   "name": "python3"
  },
  "language_info": {
   "name": "python",
   "version": "3.11.10"
  }
 },
 "nbformat": 4,
 "nbformat_minor": 2
}
