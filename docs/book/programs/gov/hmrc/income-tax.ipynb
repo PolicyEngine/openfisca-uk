{
  "cells": [
    {
      "cell_type": "markdown",
      "metadata": {
        "id": "SyCBxDvLJkZK"
      },
      "source": [
        "# Income Tax"
      ]
    },
    {
      "cell_type": "markdown",
      "metadata": {
        "id": "JODkfhOOLR45"
      },
      "source": [
        "Income tax is a tax levied on the income earned by individuals and businesses. It is one of the primary sources of revenue for the UK government and is used to fund public services and government expenditures.\n",
        "\n",
        "- Tax Allowances:\n",
        "These are specific amounts of income that individuals can earn before they are required to pay income tax. Various types of allowances exist, such as Personal Allowance, Marriage Allowance, Property Allowance, and Dividend Allowance, each offering different benefits and eligibility criteria.\n",
        "\n",
        "- Tax Charges:\n",
        "Tax charges arise when an individual's income exceeds certain thresholds or when specific conditions are met. These liabilities ensure that individuals contribute a fair amount to the national revenue, with the charges varying depending on the level of income and other factors like the High-Income Child Benefit Charge.\n",
        "\n",
        "- Tax Rates:\n",
        "The government applies different percentages of tax rates based on the income bracket an individual falls into. There are Basic, Higher, and Additional rates, each applicable to respective income ranges. Moreover, specific types of income, like dividends, have their distinct tax rates.\n",
        "\n",
        "- Tax Reliefs:\n",
        "To promote certain behaviors or ease the tax burden for specific groups, the government provides tax reliefs. These provisions reduce tax liability for eligible individuals, with examples including reliefs for Pension Contributions, Charitable Donations, and Work-Related Expenses.\n"
      ]
    },
    {
      "cell_type": "markdown",
      "metadata": {
        "id": "ER87IhZtVPL6"
      },
      "source": [
        "## Legislation"
      ]
    },
    {
      "cell_type": "markdown",
      "metadata": {
        "id": "x9-zPzjkWT8k"
      },
      "source": [
        "UK income tax legislation is grounded in primary legislation passed by the UK Parliament, supplemented by secondary legislation and administrative guidance issued by Her Majesty's Revenue and Customs (HMRC).\n",
        "\n",
        "- Income Tax Act 2007 (ITA 2007):\n",
        "This is a central piece of legislation consolidating various statutes related to income tax in the UK. It comprehensively covers aspects such as the charge to tax, applicable rates, allowances, and reliefs, serving as a foundational reference for income tax matters.\n",
        "\n",
        "- Taxation of Chargeable Gains Act 1992 (TCGA 1992):\n",
        "Though primarily focused on capital gains tax, this Act intersects significantly with income tax, particularly in the realm of taxation of gains. It provides detailed regulations on how gains should be taxed and calculated.\n",
        "\n",
        "- Income Tax (Earnings and Pensions) Act 2003 (ITEPA 2003):\n",
        "ITEPA 2003 governs the rules related to the taxation of employment income, pension income, and social security income. It outlines the various categories and criteria for taxable earnings and pensions, ensuring a structured approach to taxation in these areas.\n",
        "\n",
        "- HMRC Manuals and Guidance:\n",
        "Produced by HMRC, these comprehensive guides aim to help taxpayers in understanding and complying with the complex tax legislation. They provide practical insights and interpretations of the laws, offering clarity and assistance to both individuals and businesses in navigating the income tax landscape.\n",
        "\n"
      ]
    },
    {
      "cell_type": "markdown",
      "metadata": {
        "id": "VaL6XOutgEU4"
      },
      "source": [
        "## Methodology:\n",
        "\n",
        " Income tax logic can be found in policyengine-uk/policyengine_uk/variables/gov/hmrc/income_tax.\n",
        "\n",
        "The following table shows a series of income tax simulations using the PolicyEngine UK model."
      ]
    },
    {
      "cell_type": "code",
      "execution_count": 10,
      "metadata": {
        "cellView": "form",
        "colab": {
          "base_uri": "https://localhost:8080/"
        },
        "id": "05DNxvPwgSRF",
        "outputId": "774742ee-057f-4c4e-edd9-816b3367cc9b"
      },
      "outputs": [
        {
          "data": {
            "text/html": [
              "<div>\n",
              "<style scoped>\n",
              "    .dataframe tbody tr th:only-of-type {\n",
              "        vertical-align: middle;\n",
              "    }\n",
              "\n",
              "    .dataframe tbody tr th {\n",
              "        vertical-align: top;\n",
              "    }\n",
              "\n",
              "    .dataframe thead th {\n",
              "        text-align: right;\n",
              "    }\n",
              "</style>\n",
              "<table border=\"1\" class=\"dataframe\">\n",
              "  <thead>\n",
              "    <tr style=\"text-align: right;\">\n",
              "      <th></th>\n",
              "      <th>Person</th>\n",
              "      <th>Employment Income (£)</th>\n",
              "      <th>Dividend Income (£)</th>\n",
              "      <th>Income Tax (£)</th>\n",
              "    </tr>\n",
              "  </thead>\n",
              "  <tbody>\n",
              "    <tr>\n",
              "      <th>0</th>\n",
              "      <td>Person 1</td>\n",
              "      <td>50000</td>\n",
              "      <td>10000</td>\n",
              "      <td>10068.5</td>\n",
              "    </tr>\n",
              "    <tr>\n",
              "      <th>1</th>\n",
              "      <td>Person 2</td>\n",
              "      <td>60000</td>\n",
              "      <td>15000</td>\n",
              "      <td>15657.0</td>\n",
              "    </tr>\n",
              "    <tr>\n",
              "      <th>2</th>\n",
              "      <td>Person 3</td>\n",
              "      <td>70000</td>\n",
              "      <td>20000</td>\n",
              "      <td>21282.0</td>\n",
              "    </tr>\n",
              "    <tr>\n",
              "      <th>3</th>\n",
              "      <td>Person 4</td>\n",
              "      <td>80000</td>\n",
              "      <td>25000</td>\n",
              "      <td>27907.0</td>\n",
              "    </tr>\n",
              "    <tr>\n",
              "      <th>4</th>\n",
              "      <td>Person 5</td>\n",
              "      <td>90000</td>\n",
              "      <td>30000</td>\n",
              "      <td>36532.0</td>\n",
              "    </tr>\n",
              "  </tbody>\n",
              "</table>\n",
              "</div>"
            ],
            "text/plain": [
              "     Person  Employment Income (£)  Dividend Income (£)  Income Tax (£)\n",
              "0  Person 1                  50000                10000         10068.5\n",
              "1  Person 2                  60000                15000         15657.0\n",
              "2  Person 3                  70000                20000         21282.0\n",
              "3  Person 4                  80000                25000         27907.0\n",
              "4  Person 5                  90000                30000         36532.0"
            ]
          },
          "execution_count": 10,
          "metadata": {},
          "output_type": "execute_result"
        }
      ],
      "source": [
        "import pandas as pd\n",
        "\n",
        "from policyengine_uk import Simulation\n",
        "\n",
        "def calculate_income_tax(employment_income, dividend_income):\n",
        "    simulation = Simulation(\n",
        "        situation={\n",
        "            \"people\": {\n",
        "                \"person\": {\n",
        "                    \"employment_income\": employment_income,\n",
        "                    \"dividend_income\": dividend_income,\n",
        "                }\n",
        "            }\n",
        "        }\n",
        "    )\n",
        "    return simulation.calculate(\"income_tax\")[0] \n",
        "\n",
        "data = {\n",
        "    \"Person\": [\"Person 1\", \"Person 2\", \"Person 3\", \"Person 4\", \"Person 5\"],\n",
        "    \"Employment Income (£)\": [50000, 60000, 70000, 80000, 90000],\n",
        "    \"Dividend Income (£)\": [10000, 15000, 20000, 25000, 30000],\n",
        "    \"Income Tax (£)\": []\n",
        "}\n",
        "\n",
        "for emp_income, div_income in zip(data[\"Employment Income (£)\"], data[\"Dividend Income (£)\"]):\n",
        "    data[\"Income Tax (£)\"].append(calculate_income_tax(emp_income, div_income))\n",
        "\n",
        "df = pd.DataFrame(data)\n",
        "df\n",
        "\n"
      ]
    },
    {
      "cell_type": "markdown",
      "metadata": {
        "id": "DDa7lp9W3QVe"
      },
      "source": [
        "## Appendix:\n",
        "\n",
        "The following tables display the parameter values for income tax allowance."
      ]
    },
    {
      "cell_type": "markdown",
      "metadata": {
        "id": "xtGj1Z9q60Fs"
      },
      "source": [
        "- Annual Allowance:"
      ]
    },
    {
      "cell_type": "code",
      "execution_count": 17,
      "metadata": {
        "cellView": "form",
        "colab": {
          "base_uri": "https://localhost:8080/"
        },
        "id": "fSIiOJct5htX",
        "outputId": "58536b69-9972-4e93-da3f-15643df20342"
      },
      "outputs": [
        {
          "data": {
            "text/html": [
              "<div>\n",
              "<style scoped>\n",
              "    .dataframe tbody tr th:only-of-type {\n",
              "        vertical-align: middle;\n",
              "    }\n",
              "\n",
              "    .dataframe tbody tr th {\n",
              "        vertical-align: top;\n",
              "    }\n",
              "\n",
              "    .dataframe thead th {\n",
              "        text-align: right;\n",
              "    }\n",
              "</style>\n",
              "<table border=\"1\" class=\"dataframe\">\n",
              "  <thead>\n",
              "    <tr style=\"text-align: right;\">\n",
              "      <th></th>\n",
              "      <th>Name</th>\n",
              "      <th>Value</th>\n",
              "      <th>Unit</th>\n",
              "    </tr>\n",
              "  </thead>\n",
              "  <tbody>\n",
              "    <tr>\n",
              "      <th>0</th>\n",
              "      <td>default</td>\n",
              "      <td>2015-06-01: 40,000</td>\n",
              "      <td>currency-GBP</td>\n",
              "    </tr>\n",
              "    <tr>\n",
              "      <th>1</th>\n",
              "      <td>minimum</td>\n",
              "      <td>2015-06-01: 4,000</td>\n",
              "      <td>currency-GBP</td>\n",
              "    </tr>\n",
              "    <tr>\n",
              "      <th>2</th>\n",
              "      <td>reduction_rate</td>\n",
              "      <td>2015-06-01: 0.5</td>\n",
              "      <td>marginal-rate</td>\n",
              "    </tr>\n",
              "    <tr>\n",
              "      <th>3</th>\n",
              "      <td>taper</td>\n",
              "      <td>2015-06-01: 240,000</td>\n",
              "      <td>currency-GBP</td>\n",
              "    </tr>\n",
              "  </tbody>\n",
              "</table>\n",
              "</div>"
            ],
            "text/plain": [
              "             Name                Value           Unit\n",
              "0         default   2015-06-01: 40,000   currency-GBP\n",
              "1         minimum    2015-06-01: 4,000   currency-GBP\n",
              "2  reduction_rate      2015-06-01: 0.5  marginal-rate\n",
              "3           taper  2015-06-01: 240,000   currency-GBP"
            ]
          },
          "execution_count": 17,
          "metadata": {},
          "output_type": "execute_result"
        }
      ],
      "source": [
        "annual_allowance_data = [\n",
        "    {\n",
        "        \"Name\": \"default\",\n",
        "        \"Value\": \"2015-06-01: 40,000\",\n",
        "        \"Unit\": \"currency-GBP\"\n",
        "    },\n",
        "\n",
        "    {\n",
        "        \"Name\": \"minimum\",\n",
        "        \"Value\": \"2015-06-01: 4,000\",\n",
        "        \"Unit\": \"currency-GBP\"\n",
        "    },\n",
        "\n",
        "    {\n",
        "        \"Name\": \"reduction_rate\",\n",
        "        \"Value\": \"2015-06-01: 0.5\",\n",
        "        \"Unit\": \"marginal-rate\"\n",
        "\n",
        "    },\n",
        "    {\n",
        "        \"Name\": \"taper\",\n",
        "        \"Value\": \"2015-06-01: 240,000\",\n",
        "        \"Unit\": \"currency-GBP\"\n",
        "    }\n",
        "]\n",
        "\n",
        "df = pd.DataFrame(annual_allowance_data)\n",
        "df\n"
      ]
    },
    {
      "cell_type": "markdown",
      "metadata": {
        "id": "AqNXJHHn7CkX"
      },
      "source": [
        "- Marriage Allowance"
      ]
    },
    {
      "cell_type": "code",
      "execution_count": 20,
      "metadata": {
        "cellView": "form",
        "colab": {
          "base_uri": "https://localhost:8080/"
        },
        "id": "oxTMKHBt7BVM",
        "outputId": "6188d7d5-3579-4ffa-953b-f07be019cc65"
      },
      "outputs": [
        {
          "data": {
            "text/html": [
              "<div>\n",
              "<style scoped>\n",
              "    .dataframe tbody tr th:only-of-type {\n",
              "        vertical-align: middle;\n",
              "    }\n",
              "\n",
              "    .dataframe tbody tr th {\n",
              "        vertical-align: top;\n",
              "    }\n",
              "\n",
              "    .dataframe thead th {\n",
              "        text-align: right;\n",
              "    }\n",
              "</style>\n",
              "<table border=\"1\" class=\"dataframe\">\n",
              "  <thead>\n",
              "    <tr style=\"text-align: right;\">\n",
              "      <th></th>\n",
              "      <th>Name</th>\n",
              "      <th>Value</th>\n",
              "      <th>Unit</th>\n",
              "    </tr>\n",
              "  </thead>\n",
              "  <tbody>\n",
              "    <tr>\n",
              "      <th>0</th>\n",
              "      <td>max</td>\n",
              "      <td>2016-04-01: 0.1</td>\n",
              "      <td>/1</td>\n",
              "    </tr>\n",
              "    <tr>\n",
              "      <th>1</th>\n",
              "      <td>rounding_increment</td>\n",
              "      <td>2016-04-01: 10</td>\n",
              "      <td>currency-GBP</td>\n",
              "    </tr>\n",
              "    <tr>\n",
              "      <th>2</th>\n",
              "      <td>takeup_rate</td>\n",
              "      <td>2000-01-01: 1</td>\n",
              "      <td>/1</td>\n",
              "    </tr>\n",
              "  </tbody>\n",
              "</table>\n",
              "</div>"
            ],
            "text/plain": [
              "                 Name            Value          Unit\n",
              "0                 max  2016-04-01: 0.1            /1\n",
              "1  rounding_increment   2016-04-01: 10  currency-GBP\n",
              "2         takeup_rate    2000-01-01: 1            /1"
            ]
          },
          "execution_count": 20,
          "metadata": {},
          "output_type": "execute_result"
        }
      ],
      "source": [
        "marriage_allowance_data = [\n",
        "    {\n",
        "        \"Name\": \"max\",\n",
        "        \"Value\": \"2016-04-01: 0.1\",\n",
        "        \"Unit\": \"/1\"\n",
        "    },\n",
        "    {\n",
        "        \"Name\": \"rounding_increment\",\n",
        "        \"Value\": \"2016-04-01: 10\",\n",
        "        \"Unit\": \"currency-GBP\"\n",
        "    },\n",
        "    {\n",
        "        \"Name\": \"takeup_rate\",\n",
        "        \"Value\": \"2000-01-01: 1\",\n",
        "        \"Unit\": \"/1\"\n",
        "    }\n",
        "]\n",
        "\n",
        "df = pd.DataFrame(marriage_allowance_data)\n",
        "df\n",
        "\n"
      ]
    },
    {
      "cell_type": "markdown",
      "metadata": {
        "id": "_hc4HxX48IDd"
      },
      "source": [
        "- Married Couple's Allowance:"
      ]
    },
    {
      "cell_type": "code",
      "execution_count": 25,
      "metadata": {
        "colab": {
          "base_uri": "https://localhost:8080/"
        },
        "id": "v2ORpQls8JrX",
        "outputId": "7edb2f5e-8f19-426f-f717-9e5efe97f922"
      },
      "outputs": [
        {
          "data": {
            "text/html": [
              "<div>\n",
              "<style scoped>\n",
              "    .dataframe tbody tr th:only-of-type {\n",
              "        vertical-align: middle;\n",
              "    }\n",
              "\n",
              "    .dataframe tbody tr th {\n",
              "        vertical-align: top;\n",
              "    }\n",
              "\n",
              "    .dataframe thead th {\n",
              "        text-align: right;\n",
              "    }\n",
              "</style>\n",
              "<table border=\"1\" class=\"dataframe\">\n",
              "  <thead>\n",
              "    <tr style=\"text-align: right;\">\n",
              "      <th></th>\n",
              "      <th>Name</th>\n",
              "      <th>Value</th>\n",
              "      <th>Unit</th>\n",
              "    </tr>\n",
              "  </thead>\n",
              "  <tbody>\n",
              "    <tr>\n",
              "      <th>0</th>\n",
              "      <td>deduction_rate</td>\n",
              "      <td>2010-01-01: 10%</td>\n",
              "      <td>/1</td>\n",
              "    </tr>\n",
              "  </tbody>\n",
              "</table>\n",
              "</div>"
            ],
            "text/plain": [
              "             Name            Value Unit\n",
              "0  deduction_rate  2010-01-01: 10%   /1"
            ]
          },
          "execution_count": 25,
          "metadata": {},
          "output_type": "execute_result"
        }
      ],
      "source": [
        "married_couples_allowance_data = [\n",
        "    {\n",
        "        \"Name\": \"deduction_rate\",\n",
        "        \"Value\": \"2010-01-01: 10%\",\n",
        "        \"Unit\": \"/1\"\n",
        "    }\n",
        "]\n",
        "\n",
        "df = pd.DataFrame(married_couples_allowance_data)\n",
        "df\n",
        "\n"
      ]
    },
    {
      "cell_type": "markdown",
      "metadata": {
        "id": "YlRfd5rI8cm9"
      },
      "source": [
        "- Personal Allowance:"
      ]
    },
    {
      "cell_type": "code",
      "execution_count": 28,
      "metadata": {
        "cellView": "form",
        "colab": {
          "base_uri": "https://localhost:8080/",
          "height": 542
        },
        "id": "MeT0diTy8d5d",
        "outputId": "561c3d44-cc2a-43c3-8bdc-258cd5ea34ff"
      },
      "outputs": [
        {
          "data": {
            "text/html": [
              "<div>\n",
              "<style scoped>\n",
              "    .dataframe tbody tr th:only-of-type {\n",
              "        vertical-align: middle;\n",
              "    }\n",
              "\n",
              "    .dataframe tbody tr th {\n",
              "        vertical-align: top;\n",
              "    }\n",
              "\n",
              "    .dataframe thead th {\n",
              "        text-align: right;\n",
              "    }\n",
              "</style>\n",
              "<table border=\"1\" class=\"dataframe\">\n",
              "  <thead>\n",
              "    <tr style=\"text-align: right;\">\n",
              "      <th></th>\n",
              "      <th>Date</th>\n",
              "      <th>Allowance Amount</th>\n",
              "      <th>Unit</th>\n",
              "    </tr>\n",
              "  </thead>\n",
              "  <tbody>\n",
              "    <tr>\n",
              "      <th>0</th>\n",
              "      <td>2015-04-06</td>\n",
              "      <td>10600</td>\n",
              "      <td>currency-GBP</td>\n",
              "    </tr>\n",
              "    <tr>\n",
              "      <th>1</th>\n",
              "      <td>2017-04-06</td>\n",
              "      <td>11500</td>\n",
              "      <td>currency-GBP</td>\n",
              "    </tr>\n",
              "    <tr>\n",
              "      <th>2</th>\n",
              "      <td>2018-04-06</td>\n",
              "      <td>11850</td>\n",
              "      <td>currency-GBP</td>\n",
              "    </tr>\n",
              "    <tr>\n",
              "      <th>3</th>\n",
              "      <td>2019-04-06</td>\n",
              "      <td>12500</td>\n",
              "      <td>currency-GBP</td>\n",
              "    </tr>\n",
              "    <tr>\n",
              "      <th>4</th>\n",
              "      <td>2021-04-06</td>\n",
              "      <td>12570</td>\n",
              "      <td>currency-GBP</td>\n",
              "    </tr>\n",
              "    <tr>\n",
              "      <th>5</th>\n",
              "      <td>2025-04-06</td>\n",
              "      <td>12570</td>\n",
              "      <td>currency-GBP</td>\n",
              "    </tr>\n",
              "  </tbody>\n",
              "</table>\n",
              "</div>"
            ],
            "text/plain": [
              "         Date  Allowance Amount          Unit\n",
              "0  2015-04-06             10600  currency-GBP\n",
              "1  2017-04-06             11500  currency-GBP\n",
              "2  2018-04-06             11850  currency-GBP\n",
              "3  2019-04-06             12500  currency-GBP\n",
              "4  2021-04-06             12570  currency-GBP\n",
              "5  2025-04-06             12570  currency-GBP"
            ]
          },
          "execution_count": 28,
          "metadata": {},
          "output_type": "execute_result"
        }
      ],
      "source": [
        "dates = ['2015-04-06', '2017-04-06', '2018-04-06', '2019-04-06', '2021-04-06', '2025-04-06']\n",
        "values = [10600, 11500, 11850, 12500, 12570, 12570]\n",
        "\n",
        "df = pd.DataFrame({\n",
        "    'Date': dates,\n",
        "    'Allowance Amount': values,\n",
        "    'Unit': \"currency-GBP\"\n",
        "})\n",
        "\n",
        "df\n",
        "\n"
      ]
    },
    {
      "cell_type": "markdown",
      "metadata": {
        "id": "qmpkKy-a8-WU"
      },
      "source": [
        "- Personal Savings Allowance:"
      ]
    },
    {
      "cell_type": "code",
      "execution_count": 29,
      "metadata": {
        "cellView": "form",
        "colab": {
          "base_uri": "https://localhost:8080/"
        },
        "id": "qSuYNkJi9CwG",
        "outputId": "12ffcd0b-96eb-4822-a694-9939abace5ba"
      },
      "outputs": [
        {
          "data": {
            "text/html": [
              "<div>\n",
              "<style scoped>\n",
              "    .dataframe tbody tr th:only-of-type {\n",
              "        vertical-align: middle;\n",
              "    }\n",
              "\n",
              "    .dataframe tbody tr th {\n",
              "        vertical-align: top;\n",
              "    }\n",
              "\n",
              "    .dataframe thead th {\n",
              "        text-align: right;\n",
              "    }\n",
              "</style>\n",
              "<table border=\"1\" class=\"dataframe\">\n",
              "  <thead>\n",
              "    <tr style=\"text-align: right;\">\n",
              "      <th></th>\n",
              "      <th>Name</th>\n",
              "      <th>Value</th>\n",
              "      <th>Unit</th>\n",
              "    </tr>\n",
              "  </thead>\n",
              "  <tbody>\n",
              "    <tr>\n",
              "      <th>0</th>\n",
              "      <td>additional threshold</td>\n",
              "      <td>2005-06-01: 0</td>\n",
              "      <td>currency-GBP</td>\n",
              "    </tr>\n",
              "    <tr>\n",
              "      <th>1</th>\n",
              "      <td>basic threshold</td>\n",
              "      <td>2005-06-01: 1,000</td>\n",
              "      <td>currency-GBP</td>\n",
              "    </tr>\n",
              "    <tr>\n",
              "      <th>2</th>\n",
              "      <td>higher threshold</td>\n",
              "      <td>2005-06-01: 500</td>\n",
              "      <td>currency-GBP</td>\n",
              "    </tr>\n",
              "  </tbody>\n",
              "</table>\n",
              "</div>"
            ],
            "text/plain": [
              "                   Name              Value          Unit\n",
              "0  additional threshold      2005-06-01: 0  currency-GBP\n",
              "1       basic threshold  2005-06-01: 1,000  currency-GBP\n",
              "2      higher threshold    2005-06-01: 500  currency-GBP"
            ]
          },
          "execution_count": 29,
          "metadata": {},
          "output_type": "execute_result"
        }
      ],
      "source": [
        "personal_savings_allowance_data = [\n",
        "    {\n",
        "        \"Name\": \"additional threshold\",\n",
        "        \"Value\": \"2005-06-01: 0\",\n",
        "        \"Unit\": \"currency-GBP\"\n",
        "    },\n",
        "    {\n",
        "        \"Name\": \"basic threshold\",\n",
        "        \"Value\": \"2005-06-01: 1,000\",\n",
        "        \"Unit\": \"currency-GBP\"\n",
        "    },\n",
        "    {\n",
        "        \"Name\": \"higher threshold\",\n",
        "        \"Value\": \"2005-06-01: 500\",\n",
        "        \"Unit\": \"currency-GBP\"\n",
        "    }\n",
        "]\n",
        "\n",
        "df = pd.DataFrame(personal_savings_allowance_data)\n",
        "df\n",
        "\n",
        "\n"
      ]
    },
    {
      "cell_type": "markdown",
      "metadata": {
        "id": "c47yF49J9eid"
      },
      "source": [
        "- Dividend Allowance:"
      ]
    },
    {
      "cell_type": "code",
      "execution_count": 30,
      "metadata": {
        "cellView": "form",
        "colab": {
          "base_uri": "https://localhost:8080/"
        },
        "id": "ebCKGBSX9hmD",
        "outputId": "9e4602a3-1f1c-4deb-f78c-e5d4c5793773"
      },
      "outputs": [
        {
          "data": {
            "text/html": [
              "<div>\n",
              "<style scoped>\n",
              "    .dataframe tbody tr th:only-of-type {\n",
              "        vertical-align: middle;\n",
              "    }\n",
              "\n",
              "    .dataframe tbody tr th {\n",
              "        vertical-align: top;\n",
              "    }\n",
              "\n",
              "    .dataframe thead th {\n",
              "        text-align: right;\n",
              "    }\n",
              "</style>\n",
              "<table border=\"1\" class=\"dataframe\">\n",
              "  <thead>\n",
              "    <tr style=\"text-align: right;\">\n",
              "      <th></th>\n",
              "      <th>Name</th>\n",
              "      <th>Value</th>\n",
              "      <th>Unit</th>\n",
              "    </tr>\n",
              "  </thead>\n",
              "  <tbody>\n",
              "    <tr>\n",
              "      <th>0</th>\n",
              "      <td>dividend_allowance</td>\n",
              "      <td>2015-06-05: 2,000</td>\n",
              "      <td>currency-GBP</td>\n",
              "    </tr>\n",
              "  </tbody>\n",
              "</table>\n",
              "</div>"
            ],
            "text/plain": [
              "                 Name              Value          Unit\n",
              "0  dividend_allowance  2015-06-05: 2,000  currency-GBP"
            ]
          },
          "execution_count": 30,
          "metadata": {},
          "output_type": "execute_result"
        }
      ],
      "source": [
        "dividend_allowance_data = [\n",
        "    {\n",
        "        \"Name\": \"dividend_allowance\",\n",
        "        \"Value\": \"2015-06-05: 2,000\",\n",
        "        \"Unit\": \"currency-GBP\"\n",
        "    }\n",
        "]\n",
        "\n",
        "df = pd.DataFrame(dividend_allowance_data)\n",
        "df"
      ]
    },
    {
      "cell_type": "markdown",
      "metadata": {
        "id": "roxvVQx6CGgJ"
      },
      "source": [
        "- Property Allowance:"
      ]
    },
    {
      "cell_type": "code",
      "execution_count": 31,
      "metadata": {
        "cellView": "form",
        "colab": {
          "base_uri": "https://localhost:8080/"
        },
        "id": "49dxnShlCl8z",
        "outputId": "0f6d8363-44d9-4a37-8065-7199eafac8c3"
      },
      "outputs": [
        {
          "data": {
            "text/html": [
              "<div>\n",
              "<style scoped>\n",
              "    .dataframe tbody tr th:only-of-type {\n",
              "        vertical-align: middle;\n",
              "    }\n",
              "\n",
              "    .dataframe tbody tr th {\n",
              "        vertical-align: top;\n",
              "    }\n",
              "\n",
              "    .dataframe thead th {\n",
              "        text-align: right;\n",
              "    }\n",
              "</style>\n",
              "<table border=\"1\" class=\"dataframe\">\n",
              "  <thead>\n",
              "    <tr style=\"text-align: right;\">\n",
              "      <th></th>\n",
              "      <th>Name</th>\n",
              "      <th>Value</th>\n",
              "      <th>Unit</th>\n",
              "    </tr>\n",
              "  </thead>\n",
              "  <tbody>\n",
              "    <tr>\n",
              "      <th>0</th>\n",
              "      <td>property_allowance</td>\n",
              "      <td>2005-06-01: 1,000</td>\n",
              "      <td>currency-GBP</td>\n",
              "    </tr>\n",
              "  </tbody>\n",
              "</table>\n",
              "</div>"
            ],
            "text/plain": [
              "                 Name              Value          Unit\n",
              "0  property_allowance  2005-06-01: 1,000  currency-GBP"
            ]
          },
          "execution_count": 31,
          "metadata": {},
          "output_type": "execute_result"
        }
      ],
      "source": [
        "property_allowance_data = [\n",
        "    {\n",
        "        \"Name\": \"property_allowance\",\n",
        "        \"Value\": \"2005-06-01: 1,000\",\n",
        "        \"Unit\": \"currency-GBP\"\n",
        "    }\n",
        "]\n",
        "\n",
        "df = pd.DataFrame(property_allowance_data)\n",
        "df\n"
      ]
    },
    {
      "cell_type": "markdown",
      "metadata": {
        "id": "SKBFVXmDCzMN"
      },
      "source": [
        "- Trading Allowance:"
      ]
    },
    {
      "cell_type": "code",
      "execution_count": 33,
      "metadata": {
        "cellView": "form",
        "colab": {
          "base_uri": "https://localhost:8080/"
        },
        "id": "CHKvIiE9C7Xh",
        "outputId": "581780e5-7322-46a8-efc7-df62d1c7b24f"
      },
      "outputs": [
        {
          "data": {
            "text/html": [
              "<div>\n",
              "<style scoped>\n",
              "    .dataframe tbody tr th:only-of-type {\n",
              "        vertical-align: middle;\n",
              "    }\n",
              "\n",
              "    .dataframe tbody tr th {\n",
              "        vertical-align: top;\n",
              "    }\n",
              "\n",
              "    .dataframe thead th {\n",
              "        text-align: right;\n",
              "    }\n",
              "</style>\n",
              "<table border=\"1\" class=\"dataframe\">\n",
              "  <thead>\n",
              "    <tr style=\"text-align: right;\">\n",
              "      <th></th>\n",
              "      <th>Name</th>\n",
              "      <th>Value</th>\n",
              "      <th>Unit</th>\n",
              "    </tr>\n",
              "  </thead>\n",
              "  <tbody>\n",
              "    <tr>\n",
              "      <th>0</th>\n",
              "      <td>trading_allowance</td>\n",
              "      <td>2005-06-01: 1,000</td>\n",
              "      <td>currency-GBP</td>\n",
              "    </tr>\n",
              "  </tbody>\n",
              "</table>\n",
              "</div>"
            ],
            "text/plain": [
              "                Name              Value          Unit\n",
              "0  trading_allowance  2005-06-01: 1,000  currency-GBP"
            ]
          },
          "execution_count": 33,
          "metadata": {},
          "output_type": "execute_result"
        }
      ],
      "source": [
        "trading_allowance_data = [\n",
        "    {\n",
        "        \"Name\": \"trading_allowance\",\n",
        "        \"Value\": \"2005-06-01: 1,000\",\n",
        "        \"Unit\": \"currency-GBP\"\n",
        "    }\n",
        "]\n",
        "\n",
        "df = pd.DataFrame(trading_allowance_data)\n",
        "df\n",
        "\n"
      ]
    },
    {
      "cell_type": "markdown",
      "metadata": {},
      "source": [
        "Other income tax parameters can be found in policyengine-uk/policyengine_uk/parameters/gov/hmrc/income_tax."
      ]
    }
  ],
  "metadata": {
    "colab": {
      "provenance": []
    },
    "kernelspec": {
      "display_name": "Python 3",
      "name": "python3"
    },
    "language_info": {
      "codemirror_mode": {
        "name": "ipython",
        "version": 3
      },
      "file_extension": ".py",
      "mimetype": "text/x-python",
      "name": "python",
      "nbconvert_exporter": "python",
      "pygments_lexer": "ipython3",
      "version": "3.9.7"
    }
  },
  "nbformat": 4,
  "nbformat_minor": 0
}
