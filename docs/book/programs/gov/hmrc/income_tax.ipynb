{
  "cells": [
    {
      "cell_type": "markdown",
      "metadata": {
        "id": "SyCBxDvLJkZK"
      },
      "source": [
        "# Income Tax"
      ]
    },
    {
      "cell_type": "markdown",
      "metadata": {
        "id": "JODkfhOOLR45"
      },
      "source": [
        "Income tax is a tax levied on the income earned by individuals and businesses. It is one of the primary sources of revenue for the UK government and is used to fund public services and government expenditures.\n",
        "\n",
        "This table shows the core components of the UK income tax:\n"
      ]
    },
    {
      "cell_type": "code",
      "execution_count": null,
      "metadata": {
        "cellView": "form",
        "colab": {
          "base_uri": "https://localhost:8080/"
        },
        "id": "Gu96OiS8QwBu",
        "outputId": "78f31024-25c7-44cd-c8fb-74f7ece243e2"
      },
      "outputs": [
        {
          "name": "stdout",
          "output_type": "stream",
          "text": [
            "+----------------+-------------------------------------------------------------------------------------------------------------------------------------------------------------------------------------------------+\n",
            "| Category       | Description                                                                                                                                                                                     |\n",
            "+================+=================================================================================================================================================================================================+\n",
            "| Tax Allowances | Amount of income an individual can earn before they start paying tax. Examples include Personal Allowance, Marriage Allowance, Blind Person’s Allowance, and Dividend Allowance.                |\n",
            "+----------------+-------------------------------------------------------------------------------------------------------------------------------------------------------------------------------------------------+\n",
            "| Tax Charges    | Liabilities imposed when certain conditions or thresholds are met. For example, charges apply when income exceeds the personal allowance or in cases like the High-Income Child Benefit Charge. |\n",
            "+----------------+-------------------------------------------------------------------------------------------------------------------------------------------------------------------------------------------------+\n",
            "| Tax Rates      | Percentage of income taken as tax. There are different rates like Basic, Higher, and Additional rates. Dividends have their own rates.                                                          |\n",
            "+----------------+-------------------------------------------------------------------------------------------------------------------------------------------------------------------------------------------------+\n",
            "| Tax Reliefs    | Provisions to reduce tax liability. Examples include reliefs for Pension Contributions, Charitable Donations, and Work-Related Expenses.                                                        |\n",
            "+----------------+-------------------------------------------------------------------------------------------------------------------------------------------------------------------------------------------------+\n"
          ]
        }
      ],
      "source": [
        "# @title\n",
        "from tabulate import tabulate\n",
        "\n",
        "headers = [\"Category\", \"Description\"]\n",
        "data = [\n",
        "    [\"Tax Allowances\", \"Amount of income an individual can earn before they start paying tax. Examples include Personal Allowance, Marriage Allowance, Property Allowance, and Dividend Allowance.\"],\n",
        "    [\"Tax Charges\", \"Liabilities imposed when certain conditions or thresholds are met. For example, charges apply when income exceeds the personal allowance or in cases like the High-Income Child Benefit Charge.\"],\n",
        "    [\"Tax Rates\", \"Percentage of income taken as tax. There are different rates like Basic, Higher, and Additional rates. Dividends have their own rates.\"],\n",
        "    [\"Tax Reliefs\", \"Provisions to reduce tax liability. Examples include reliefs for Pension Contributions, Charitable Donations, and Work-Related Expenses.\"]\n",
        "]\n",
        "\n",
        "print(tabulate(data, headers=headers, tablefmt=\"grid\"))\n"
      ]
    },
    {
      "cell_type": "markdown",
      "metadata": {
        "id": "ER87IhZtVPL6"
      },
      "source": [
        "# Legislation"
      ]
    },
    {
      "cell_type": "markdown",
      "metadata": {
        "id": "x9-zPzjkWT8k"
      },
      "source": [
        "UK income tax legislation is grounded in primary legislation passed by the UK Parliament, supplemented by secondary legislation and administrative guidance issued by Her Majesty's Revenue and Customs (HMRC). This table briefly introduce the legislation of UK income tax:"
      ]
    },
    {
      "cell_type": "code",
      "execution_count": null,
      "metadata": {
        "cellView": "form",
        "colab": {
          "base_uri": "https://localhost:8080/"
        },
        "id": "vInPOnY7WERk",
        "outputId": "ef4bed84-45a9-4577-aa5d-f6a3abb81c47"
      },
      "outputs": [
        {
          "name": "stdout",
          "output_type": "stream",
          "text": [
            "+----------------------------------------------------------+-------------------------------------------------------------------------------------------------------------------------+\n",
            "| Legislation                                              | Description                                                                                                             |\n",
            "+==========================================================+=========================================================================================================================+\n",
            "| Income Tax Act 2007 (ITA 2007)                           | Central legislation consolidating statutes related to income tax. Covers charge to tax, rates, allowances, and reliefs. |\n",
            "+----------------------------------------------------------+-------------------------------------------------------------------------------------------------------------------------+\n",
            "| Taxation of Chargeable Gains Act 1992 (TCGA 1992)        | Primarily about capital gains tax but intersects with income tax on the taxation of gains.                              |\n",
            "+----------------------------------------------------------+-------------------------------------------------------------------------------------------------------------------------+\n",
            "| Income Tax (Earnings and Pensions) Act 2003 (ITEPA 2003) | Rules on taxation of employment income, pension income, and social security income.                                     |\n",
            "+----------------------------------------------------------+-------------------------------------------------------------------------------------------------------------------------+\n",
            "| HMRC Manuals and Guidance                                | Guidance produced by HMRC to help taxpayers understand and comply with tax legislation. Provides practical insight.     |\n",
            "+----------------------------------------------------------+-------------------------------------------------------------------------------------------------------------------------+\n",
            "| Finance Acts                                             | Annual Acts updating tax rates, allowances, and new tax measures announced in the Budget.                               |\n",
            "+----------------------------------------------------------+-------------------------------------------------------------------------------------------------------------------------+\n",
            "| Case Law                                                 | Court judgments shaping the interpretation and application of income tax legislation.                                   |\n",
            "+----------------------------------------------------------+-------------------------------------------------------------------------------------------------------------------------+\n",
            "| International Agreements                                 | Double taxation treaties with other countries impacting taxation of UK and foreign residents.                           |\n",
            "+----------------------------------------------------------+-------------------------------------------------------------------------------------------------------------------------+\n"
          ]
        }
      ],
      "source": [
        "# @title\n",
        "headers = [\"Legislation\", \"Description\"]\n",
        "data = [\n",
        "    [\"Income Tax Act 2007 (ITA 2007)\", \"Central legislation consolidating statutes related to income tax. Covers charge to tax, rates, allowances, and reliefs.\"],\n",
        "    [\"Taxation of Chargeable Gains Act 1992 (TCGA 1992)\", \"Primarily about capital gains tax but intersects with income tax on the taxation of gains.\"],\n",
        "    [\"Income Tax (Earnings and Pensions) Act 2003 (ITEPA 2003)\", \"Rules on taxation of employment income, pension income, and social security income.\"],\n",
        "    [\"HMRC Manuals and Guidance\", \"Guidance produced by HMRC to help taxpayers understand and comply with tax legislation. Provides practical insight.\"],\n",
        "    [\"Finance Acts\", \"Annual Acts updating tax rates, allowances, and new tax measures announced in the Budget.\"],\n",
        "    [\"Case Law\", \"Court judgments shaping the interpretation and application of income tax legislation.\"],\n",
        "    [\"International Agreements\", \"Double taxation treaties with other countries impacting taxation of UK and foreign residents.\"]\n",
        "]\n",
        "\n",
        "print(tabulate(data, headers=headers, tablefmt=\"grid\"))\n"
      ]
    },
    {
      "cell_type": "markdown",
      "metadata": {
        "id": "VaL6XOutgEU4"
      },
      "source": [
        "# Methodology:\n",
        " Income tax logic can be found in policyengine-uk/policyengine_uk/variables/gov/hmrc/income_tax."
      ]
    },
    {
      "cell_type": "markdown",
      "metadata": {
        "id": "7PgyfkG2kE-_"
      },
      "source": [
        "- Tax Allowance:\\\n",
        "This table shows some of variables used by PolicyEngine UK to model income tax allowances:"
      ]
    },
    {
      "cell_type": "code",
      "execution_count": 18,
      "metadata": {
        "cellView": "form",
        "colab": {
          "base_uri": "https://localhost:8080/"
        },
        "id": "05DNxvPwgSRF",
        "outputId": "774742ee-057f-4c4e-edd9-816b3367cc9b"
      },
      "outputs": [
        {
          "name": "stdout",
          "output_type": "stream",
          "text": [
            "+--------------------------------------------+-------------------------------------------------------+---------------------------------------------------------------+--------+\n",
            "| Variable Name                              | Label                                                 | Reference                                                     | Unit   |\n",
            "+============================================+=======================================================+===============================================================+========+\n",
            "| personal_allowance                         | Personal Allowance for the year                       | Income Tax Act 2007 s. 35                                     | GBP    |\n",
            "+--------------------------------------------+-------------------------------------------------------+---------------------------------------------------------------+--------+\n",
            "| blind_persons_allowance                    | Blind Person's Allowance for the year (not simulated) | Income Tax Act 2007 s. 38                                     | GBP    |\n",
            "+--------------------------------------------+-------------------------------------------------------+---------------------------------------------------------------+--------+\n",
            "| trading_allowance                          | Trading Allowance for the year                        | Income Tax (Trading and Other Income) Act 2005 s. 783AF       | GBP    |\n",
            "+--------------------------------------------+-------------------------------------------------------+---------------------------------------------------------------+--------+\n",
            "| trading_allowance_deduction                | Deduction applied by the trading allowance            | Income Tax (Trading and Other Income) Act 2005 s. 783AF       | GBP    |\n",
            "+--------------------------------------------+-------------------------------------------------------+---------------------------------------------------------------+--------+\n",
            "| property_allowance                         | Property Allowance for the year                       | Income Tax (Trading and Other Income) Act 2005 s. 783BF       | GBP    |\n",
            "+--------------------------------------------+-------------------------------------------------------+---------------------------------------------------------------+--------+\n",
            "| savings_allowance                          | Savings Allowance for the year                        | Income Tax Act 2007 s. 12B                                    | GBP    |\n",
            "+--------------------------------------------+-------------------------------------------------------+---------------------------------------------------------------+--------+\n",
            "| dividend_allowance                         | Dividend allowance for the person                     | Income Tax Act 2007 s. 13A                                    | GBP    |\n",
            "+--------------------------------------------+-------------------------------------------------------+---------------------------------------------------------------+--------+\n",
            "| meets_marriage_allowance_income_conditions | Meets Marriage Allowance income conditions            | https://www.legislation.gov.uk/ukpga/2007/3/section/55B       |        |\n",
            "+--------------------------------------------+-------------------------------------------------------+---------------------------------------------------------------+--------+\n",
            "| marriage_allowance                         | Marriage Allowance                                    | https://www.legislation.gov.uk/ukpga/2007/3/part/3/chapter/3A | GBP    |\n",
            "+--------------------------------------------+-------------------------------------------------------+---------------------------------------------------------------+--------+\n"
          ]
        }
      ],
      "source": [
        "# @title\n",
        "from tabulate import tabulate\n",
        "\n",
        "variables = [\n",
        "    {\n",
        "        \"name\": \"personal_allowance\",\n",
        "        \"label\": \"Personal Allowance for the year\",\n",
        "        \"reference\": \"Income Tax Act 2007 s. 35\",\n",
        "        \"unit\": \"GBP\"\n",
        "    },\n",
        "    {\n",
        "        \"name\": \"blind_persons_allowance\",\n",
        "        \"label\": \"Blind Person's Allowance for the year (not simulated)\",\n",
        "        \"reference\": \"Income Tax Act 2007 s. 38\",\n",
        "        \"unit\": \"GBP\"\n",
        "    },\n",
        "    {\n",
        "        \"name\": \"trading_allowance\",\n",
        "        \"label\": \"Trading Allowance for the year\",\n",
        "        \"reference\": \"Income Tax (Trading and Other Income) Act 2005 s. 783AF\",\n",
        "        \"unit\": \"GBP\"\n",
        "    },\n",
        "    {\n",
        "        \"name\": \"trading_allowance_deduction\",\n",
        "        \"label\": \"Deduction applied by the trading allowance\",\n",
        "        \"reference\": \"Income Tax (Trading and Other Income) Act 2005 s. 783AF\",\n",
        "        \"unit\": \"GBP\"\n",
        "    },\n",
        "    {\n",
        "        \"name\": \"property_allowance\",\n",
        "        \"label\": \"Property Allowance for the year\",\n",
        "        \"reference\": \"Income Tax (Trading and Other Income) Act 2005 s. 783BF\",\n",
        "        \"unit\": \"GBP\"\n",
        "    },\n",
        "    {\n",
        "        \"name\": \"savings_allowance\",\n",
        "        \"label\": \"Savings Allowance for the year\",\n",
        "        \"reference\": \"Income Tax Act 2007 s. 12B\",\n",
        "        \"unit\": \"GBP\"\n",
        "    },\n",
        "    {\n",
        "        \"name\": \"dividend_allowance\",\n",
        "        \"label\": \"Dividend allowance for the person\",\n",
        "        \"reference\": \"Income Tax Act 2007 s. 13A\",\n",
        "        \"unit\": \"GBP\"\n",
        "    },\n",
        "    {\n",
        "        \"name\": \"meets_marriage_allowance_income_conditions\",\n",
        "        \"label\": \"Meets Marriage Allowance income conditions\",\n",
        "        \"reference\": \"https://www.legislation.gov.uk/ukpga/2007/3/section/55B\",\n",
        "        \"unit\": \"\"\n",
        "    },\n",
        "    {\n",
        "        \"name\": \"marriage_allowance\",\n",
        "        \"label\": \"Marriage Allowance\",\n",
        "        \"reference\": \"https://www.legislation.gov.uk/ukpga/2007/3/part/3/chapter/3A\",\n",
        "        \"unit\": \"GBP\"\n",
        "    },\n",
        "]\n",
        "\n",
        "headers = [\"Variable Name\", \"Label\", \"Reference\", \"Unit\"]\n",
        "table_data = [(v[\"name\"], v[\"label\"], v[\"reference\"], v[\"unit\"]) for v in variables]\n",
        "table = tabulate(table_data, headers=headers, tablefmt='grid')\n",
        "\n",
        "print(table)\n"
      ]
    },
    {
      "cell_type": "markdown",
      "metadata": {
        "id": "c0h8F-sRkybB"
      },
      "source": [
        "- Tax Charges:\\\n",
        "This table introduces the CB HITC methodology used by PolicyEngine UK to model tax charges.\n"
      ]
    },
    {
      "cell_type": "code",
      "execution_count": 10,
      "metadata": {
        "cellView": "form",
        "colab": {
          "base_uri": "https://localhost:8080/"
        },
        "id": "HFWPFr1qlrg6",
        "outputId": "ae42e976-bec9-4f8b-cd72-45bdc2429f86"
      },
      "outputs": [
        {
          "name": "stdout",
          "output_type": "stream",
          "text": [
            "+-------------+-------------------------------------------------------------------------+\n",
            "| Component   | Description                                                             |\n",
            "+=============+=========================================================================+\n",
            "| Entity      | Person                                                                  |\n",
            "+-------------+-------------------------------------------------------------------------+\n",
            "| Value Type  | Float                                                                   |\n",
            "+-------------+-------------------------------------------------------------------------+\n",
            "| Unit        | GBP                                                                     |\n",
            "+-------------+-------------------------------------------------------------------------+\n",
            "| Period      | YEAR                                                                    |\n",
            "+-------------+-------------------------------------------------------------------------+\n",
            "| Reference   | https://www.legislation.gov.uk/ukpga/2003/1/part/10/chapter/8           |\n",
            "+-------------+-------------------------------------------------------------------------+\n",
            "| Defined For | Higher Earner                                                           |\n",
            "+-------------+-------------------------------------------------------------------------+\n",
            "| Calculation | 1. Determine Child Benefit received.                                    |\n",
            "|             | 2. Fetch CB HITC parameters.                                            |\n",
            "|             | 3. Calculate % of CB to be recollected based on adjusted net income.    |\n",
            "|             | 4. Return the lesser of the calculated % of CB or the full CB received. |\n",
            "+-------------+-------------------------------------------------------------------------+\n"
          ]
        }
      ],
      "source": [
        "# @title\n",
        "headers = ['Component', 'Description']\n",
        "data = [\n",
        "    ['Entity', 'Person'],\n",
        "    ['Value Type', 'Float'],\n",
        "    ['Unit', 'GBP'],\n",
        "    ['Period', 'YEAR'],\n",
        "    ['Reference', 'https://www.legislation.gov.uk/ukpga/2003/1/part/10/chapter/8'],\n",
        "    ['Defined For', 'Higher Earner'],\n",
        "    ['Calculation', (\n",
        "        \"1. Determine Child Benefit received.\\n\"\n",
        "        \"2. Fetch CB HITC parameters.\\n\"\n",
        "        \"3. Calculate % of CB to be recollected based on adjusted net income.\\n\"\n",
        "        \"4. Return the lesser of the calculated % of CB or the full CB received.\"\n",
        "    )]\n",
        "]\n",
        "\n",
        "print(tabulate(data, headers=headers, tablefmt='grid'))\n"
      ]
    },
    {
      "cell_type": "markdown",
      "metadata": {
        "id": "ugj-zQp1myCB"
      },
      "source": [
        "- Base:\\\n",
        "This table introduces the two classes (total_pension_income and social_security_income) used by PolicyEngine UK to model income tax."
      ]
    },
    {
      "cell_type": "code",
      "execution_count": 11,
      "metadata": {
        "cellView": "form",
        "colab": {
          "base_uri": "https://localhost:8080/"
        },
        "id": "PaqUIN6gtBQ5",
        "outputId": "b0e20a52-2b2f-43f3-f6f8-36af95733da0"
      },
      "outputs": [
        {
          "name": "stdout",
          "output_type": "stream",
          "text": [
            "+------------------------+----------------------------------------------+-------------------------------------------------------------------------------+--------------------------------------------------------+--------+\n",
            "| Variable Name          | Label                                        | Description/Components                                                        | Reference                                              | Unit   |\n",
            "+========================+==============================================+===============================================================================+========================================================+========+\n",
            "| total_pension_income   | Total pension income                         | Private, personal and State Pension income                                    | Income Tax Act 2007 s. 23                              | GBP    |\n",
            "+------------------------+----------------------------------------------+-------------------------------------------------------------------------------+--------------------------------------------------------+--------+\n",
            "| social_security_income | Income from social security for tax purposes | state_pension, incapacity_benefit, JSA_contrib, ESA_contrib, carers_allowance | Income Tax (Earnings and Pensions) Act 2003 s. 1(1)(b) | GBP    |\n",
            "+------------------------+----------------------------------------------+-------------------------------------------------------------------------------+--------------------------------------------------------+--------+\n"
          ]
        }
      ],
      "source": [
        "# @title\n",
        "data = [\n",
        "    [\"Variable Name\", \"Label\", \"Description/Components\", \"Reference\", \"Unit\"],\n",
        "    [\"total_pension_income\",\n",
        "     \"Total pension income\",\n",
        "     \"Private, personal and State Pension income\",\n",
        "     \"Income Tax Act 2007 s. 23\",\n",
        "     \"GBP\"],\n",
        "    [\"social_security_income\",\n",
        "     \"Income from social security for tax purposes\",\n",
        "     \", \".join([\"state_pension\", \"incapacity_benefit\", \"JSA_contrib\", \"ESA_contrib\", \"carers_allowance\"]),\n",
        "     \"Income Tax (Earnings and Pensions) Act 2003 s. 1(1)(b)\",\n",
        "     \"GBP\"]\n",
        "]\n",
        "\n",
        "table = tabulate(data, headers='firstrow', tablefmt='grid')\n",
        "print(table)\n"
      ]
    },
    {
      "cell_type": "markdown",
      "metadata": {
        "id": "4Uw4aVRZtOW7"
      },
      "source": [
        "- Liability\\\n",
        "This table shows some of variables used by PolicyEngine UK to model income tax liability:"
      ]
    },
    {
      "cell_type": "code",
      "execution_count": 20,
      "metadata": {
        "cellView": "form",
        "colab": {
          "base_uri": "https://localhost:8080/"
        },
        "id": "pskzpAi1ueD5",
        "outputId": "6b5b35d4-1053-4992-a3c0-fdd84b963885"
      },
      "outputs": [
        {
          "name": "stdout",
          "output_type": "stream",
          "text": [
            "+-----------------------------+---------------------------------------------------------+---------------------------------------------+-----------+\n",
            "| Variable Name               | Label                                                   | Reference                                   | Unit      |\n",
            "+=============================+=========================================================+=============================================+===========+\n",
            "| earned_taxable_income       | Non-savings, non-dividend income for Income Tax         | Income Tax Act 2007 s. 10                   | USD       |\n",
            "+-----------------------------+---------------------------------------------------------+---------------------------------------------+-----------+\n",
            "| earned_income_tax           | Income tax on earned income                             | Income Tax Act 2007 s. 11                   | USD       |\n",
            "+-----------------------------+---------------------------------------------------------+---------------------------------------------+-----------+\n",
            "| savings_starter_rate_income | Savings income which is tax-free under the starter rate | Income Tax Act 2007 s. 13                   | USD       |\n",
            "+-----------------------------+---------------------------------------------------------+---------------------------------------------+-----------+\n",
            "| pension_annuity_income      | Income from pensions and annuities                      | Pensions Act 2015 s. 14                     | USD       |\n",
            "+-----------------------------+---------------------------------------------------------+---------------------------------------------+-----------+\n",
            "| property_rental_income      | Income from renting out properties                      | Housing Act 1988 s. 4                       | USD/month |\n",
            "+-----------------------------+---------------------------------------------------------+---------------------------------------------+-----------+\n",
            "| dividend_income             | Income from dividends                                   | Companies Act 2006 s. 801                   | USD       |\n",
            "+-----------------------------+---------------------------------------------------------+---------------------------------------------+-----------+\n",
            "| capital_gains_income        | Income from capital gains                               | Taxation of Chargeable Gains Act 1992 s. 20 | USD       |\n",
            "+-----------------------------+---------------------------------------------------------+---------------------------------------------+-----------+\n"
          ]
        }
      ],
      "source": [
        "# @title\n",
        "variables_data = [\n",
        "    {\n",
        "        \"Variable Name\": \"earned_taxable_income\",\n",
        "        \"Label\": \"Non-savings, non-dividend income for Income Tax\",\n",
        "        \"Reference\": \"Income Tax Act 2007 s. 10\",\n",
        "        \"Unit\": \"USD\"\n",
        "    },\n",
        "    {\n",
        "        \"Variable Name\": \"earned_income_tax\",\n",
        "        \"Label\": \"Income tax on earned income\",\n",
        "        \"Reference\": \"Income Tax Act 2007 s. 11\",\n",
        "        \"Unit\": \"USD\"\n",
        "    },\n",
        "    {\n",
        "        \"Variable Name\": \"savings_starter_rate_income\",\n",
        "        \"Label\": \"Savings income which is tax-free under the starter rate\",\n",
        "        \"Reference\": \"Income Tax Act 2007 s. 13\",\n",
        "        \"Unit\": \"USD\"\n",
        "    },\n",
        "    {\n",
        "        \"Variable Name\": \"pension_annuity_income\",\n",
        "        \"Label\": \"Income from pensions and annuities\",\n",
        "        \"Reference\": \"Pensions Act 2015 s. 14\",\n",
        "        \"Unit\": \"USD\"\n",
        "    },\n",
        "    {\n",
        "        \"Variable Name\": \"property_rental_income\",\n",
        "        \"Label\": \"Income from renting out properties\",\n",
        "        \"Reference\": \"Housing Act 1988 s. 4\",\n",
        "        \"Unit\": \"USD/month\"\n",
        "    },\n",
        "    {\n",
        "        \"Variable Name\": \"dividend_income\",\n",
        "        \"Label\": \"Income from dividends\",\n",
        "        \"Reference\": \"Companies Act 2006 s. 801\",\n",
        "        \"Unit\": \"USD\"\n",
        "    },\n",
        "    {\n",
        "        \"Variable Name\": \"capital_gains_income\",\n",
        "        \"Label\": \"Income from capital gains\",\n",
        "        \"Reference\": \"Taxation of Chargeable Gains Act 1992 s. 20\",\n",
        "        \"Unit\": \"USD\"\n",
        "    }\n",
        "]\n",
        "\n",
        "table = tabulate(variables_data, headers='keys', tablefmt=\"grid\")\n",
        "\n",
        "print(table)\n"
      ]
    },
    {
      "cell_type": "markdown",
      "metadata": {
        "id": "UUyN4ehR0zu6"
      },
      "source": [
        "- Tax Relief\\\n",
        "This table shows some of variables used by PolicyEngine UK to model income tax relief:\n"
      ]
    },
    {
      "cell_type": "code",
      "execution_count": 22,
      "metadata": {
        "cellView": "form",
        "colab": {
          "base_uri": "https://localhost:8080/"
        },
        "id": "KIwtvd6k2BBH",
        "outputId": "50587fbd-7be1-49bd-a6c1-d42cd01edd1b"
      },
      "outputs": [
        {
          "name": "stdout",
          "output_type": "stream",
          "text": [
            "+---------------------------------+--------------------------------------------------------------------+--------------------------------------------------------+--------+\n",
            "| Variable Name                   | Label                                                              | Reference                                              | Unit   |\n",
            "+=================================+====================================================================+========================================================+========+\n",
            "| taxable_employment_income       | Net taxable earnings                                               | Income Tax (Earnings and Pensions) Act 2003 s. 11      | GBP    |\n",
            "+---------------------------------+--------------------------------------------------------------------+--------------------------------------------------------+--------+\n",
            "| employment_deductions           | Deductions from employment income                                  | Income Tax Act (Earnings and Pensions) Act 2003 s. 327 | GBP    |\n",
            "+---------------------------------+--------------------------------------------------------------------+--------------------------------------------------------+--------+\n",
            "| employment_expenses             | Cost of expenses necessarily incurred and reimbursed by employment | Income Tax Act (Earnings and Pensions) Act 2003 s. 333 | GBP    |\n",
            "+---------------------------------+--------------------------------------------------------------------+--------------------------------------------------------+--------+\n",
            "| taxable_savings_interest_income | Amount of savings interest which is taxable                        | Income Tax Act (Trading and Other Income) 2005 s. 369  | GBP    |\n",
            "+---------------------------------+--------------------------------------------------------------------+--------------------------------------------------------+--------+\n",
            "| taxable_pension_income          | Amount of pension income that is taxable                           | Income Tax (Earnings and Pensions) Act 2003 s. 567     | GBP    |\n",
            "+---------------------------------+--------------------------------------------------------------------+--------------------------------------------------------+--------+\n"
          ]
        }
      ],
      "source": [
        "# @title\n",
        "selected_variables_data = [\n",
        "    {\n",
        "        \"Variable Name\": \"taxable_employment_income\",\n",
        "        \"Label\": \"Net taxable earnings\",\n",
        "        \"Reference\": \"Income Tax (Earnings and Pensions) Act 2003 s. 11\",\n",
        "        \"Unit\": \"GBP\"\n",
        "    },\n",
        "    {\n",
        "        \"Variable Name\": \"employment_deductions\",\n",
        "        \"Label\": \"Deductions from employment income\",\n",
        "        \"Reference\": \"Income Tax Act (Earnings and Pensions) Act 2003 s. 327\",\n",
        "        \"Unit\": \"GBP\"\n",
        "    },\n",
        "    {\n",
        "        \"Variable Name\": \"employment_expenses\",\n",
        "        \"Label\": \"Cost of expenses necessarily incurred and reimbursed by employment\",\n",
        "        \"Reference\": \"Income Tax Act (Earnings and Pensions) Act 2003 s. 333\",\n",
        "        \"Unit\": \"GBP\"\n",
        "    },\n",
        "    {\n",
        "        \"Variable Name\": \"taxable_savings_interest_income\",\n",
        "        \"Label\": \"Amount of savings interest which is taxable\",\n",
        "        \"Reference\": \"Income Tax Act (Trading and Other Income) 2005 s. 369\",\n",
        "        \"Unit\": \"GBP\"\n",
        "    },\n",
        "    {\n",
        "        \"Variable Name\": \"taxable_pension_income\",\n",
        "        \"Label\": \"Amount of pension income that is taxable\",\n",
        "        \"Reference\": \"Income Tax (Earnings and Pensions) Act 2003 s. 567\",\n",
        "        \"Unit\": \"GBP\"\n",
        "    }\n",
        "]\n",
        "\n",
        "table = tabulate(selected_variables_data, headers='keys', tablefmt=\"grid\")\n",
        "\n",
        "print(table)\n"
      ]
    },
    {
      "cell_type": "markdown",
      "metadata": {
        "id": "DDa7lp9W3QVe"
      },
      "source": [
        "# Appendix:\n",
        "\n",
        "The following tables and plot display the parameter values for income tax allowance."
      ]
    },
    {
      "cell_type": "markdown",
      "metadata": {
        "id": "xtGj1Z9q60Fs"
      },
      "source": [
        "- Annual Allowance:"
      ]
    },
    {
      "cell_type": "code",
      "execution_count": 41,
      "metadata": {
        "cellView": "form",
        "colab": {
          "base_uri": "https://localhost:8080/"
        },
        "id": "fSIiOJct5htX",
        "outputId": "58536b69-9972-4e93-da3f-15643df20342"
      },
      "outputs": [
        {
          "name": "stdout",
          "output_type": "stream",
          "text": [
            "+----------------+----------------------------------------------------------------+---------------------+\n",
            "| Name           | Description                                                    | Value               |\n",
            "+================+================================================================+=====================+\n",
            "| default        | Annual allowance for relief on pension contributions           | 2015-06-01: 40,000  |\n",
            "+----------------+----------------------------------------------------------------+---------------------+\n",
            "| minimum        | Minimum annual allowance for relief on pension contributions   | 2015-06-01: 4,000   |\n",
            "+----------------+----------------------------------------------------------------+---------------------+\n",
            "| reduction_rate | Reduction rate for the annual allowance                        | 2015-06-01: 0.5     |\n",
            "+----------------+----------------------------------------------------------------+---------------------+\n",
            "| taper          | Adjusted net income limit for tapering of the annual allowance | 2015-06-01: 240,000 |\n",
            "+----------------+----------------------------------------------------------------+---------------------+\n"
          ]
        }
      ],
      "source": [
        "# @title\n",
        "annual_allowance_data = [\n",
        "    {\n",
        "        \"Name\": \"default\",\n",
        "        \"Description\": \"Annual allowance for relief on pension contributions\",\n",
        "        \"Value\": \"2015-06-01: 40,000\"\n",
        "    },\n",
        "    {\n",
        "        \"Name\": \"minimum\",\n",
        "        \"Description\": \"Minimum annual allowance for relief on pension contributions\",\n",
        "        \"Value\": \"2015-06-01: 4,000\"\n",
        "    },\n",
        "    {\n",
        "        \"Name\": \"reduction_rate\",\n",
        "        \"Description\": \"Reduction rate for the annual allowance\",\n",
        "        \"Value\": \"2015-06-01: 0.5\"\n",
        "    },\n",
        "    {\n",
        "        \"Name\": \"taper\",\n",
        "        \"Description\": \"Adjusted net income limit for tapering of the annual allowance\",\n",
        "        \"Value\": \"2015-06-01: 240,000\"\n",
        "    }\n",
        "]\n",
        "\n",
        "print(tabulate(annual_allowance_data, headers='keys', tablefmt='grid'))\n",
        "\n"
      ]
    },
    {
      "cell_type": "markdown",
      "metadata": {
        "id": "AqNXJHHn7CkX"
      },
      "source": [
        "- Marriage Allowance"
      ]
    },
    {
      "cell_type": "code",
      "execution_count": 42,
      "metadata": {
        "cellView": "form",
        "colab": {
          "base_uri": "https://localhost:8080/"
        },
        "id": "oxTMKHBt7BVM",
        "outputId": "6188d7d5-3579-4ffa-953b-f07be019cc65"
      },
      "outputs": [
        {
          "name": "stdout",
          "output_type": "stream",
          "text": [
            "+--------------------+-----------------------------------------------------------------------------------------------------+------------------+\n",
            "| Name               | Description                                                                                         | Value            |\n",
            "+====================+=====================================================================================================+==================+\n",
            "| max                | Maximum Marriage Allowance taxable income reduction, as a percentage of the full Personal Allowance | 2016-04-01: 10%  |\n",
            "+--------------------+-----------------------------------------------------------------------------------------------------+------------------+\n",
            "| rounding_increment | The Marriage Allowance is rounded up by this increment.                                             | 2016-04-01: 10   |\n",
            "+--------------------+-----------------------------------------------------------------------------------------------------+------------------+\n",
            "| takeup_rate        | Percentage of eligible couples who claim Marriage Allowance.                                        | 2000-01-01: 100% |\n",
            "+--------------------+-----------------------------------------------------------------------------------------------------+------------------+\n"
          ]
        }
      ],
      "source": [
        "# @title\n",
        "marriage_allowance_data = [\n",
        "    {\n",
        "        \"Name\": \"max\",\n",
        "        \"Description\": \"Maximum Marriage Allowance taxable income reduction, as a percentage of the full Personal Allowance\",\n",
        "        \"Value\": \"2016-04-01: 10%\"\n",
        "    },\n",
        "    {\n",
        "        \"Name\": \"rounding_increment\",\n",
        "        \"Description\": \"The Marriage Allowance is rounded up by this increment.\",\n",
        "        \"Value\": \"2016-04-01: 10\"\n",
        "    },\n",
        "    {\n",
        "        \"Name\": \"takeup_rate\",\n",
        "        \"Description\": \"Percentage of eligible couples who claim Marriage Allowance.\",\n",
        "        \"Value\": \"2000-01-01: 100%\",\n",
        "    }\n",
        "]\n",
        "\n",
        "# Draw table using tabulate\n",
        "print(tabulate(marriage_allowance_data, headers='keys', tablefmt='grid'))\n"
      ]
    },
    {
      "cell_type": "markdown",
      "metadata": {
        "id": "_hc4HxX48IDd"
      },
      "source": [
        "- Married Couple's Allowance:"
      ]
    },
    {
      "cell_type": "code",
      "execution_count": 43,
      "metadata": {
        "colab": {
          "base_uri": "https://localhost:8080/"
        },
        "id": "v2ORpQls8JrX",
        "outputId": "7edb2f5e-8f19-426f-f717-9e5efe97f922"
      },
      "outputs": [
        {
          "name": "stdout",
          "output_type": "stream",
          "text": [
            "+----------------+--------------------------------------------------------------------------------------------+-----------------+\n",
            "| Name           | Description                                                                                | Value           |\n",
            "+================+============================================================================================+=================+\n",
            "| deduction_rate | Percentage of the Married Couple's Allowance which is deductible from Income Tax Liability | 2010-01-01: 10% |\n",
            "+----------------+--------------------------------------------------------------------------------------------+-----------------+\n"
          ]
        }
      ],
      "source": [
        "# @title\n",
        "married_couples_allowance_data = [\n",
        "    {\n",
        "        \"Name\": \"deduction_rate\",\n",
        "        \"Description\": \"Percentage of the Married Couple's Allowance which is deductible from Income Tax Liability\",\n",
        "        \"Value\": \"2010-01-01: 10%\"\n",
        "    }\n",
        "]\n",
        "\n",
        "print(tabulate(married_couples_allowance_data, headers='keys', tablefmt='grid'))\n"
      ]
    },
    {
      "cell_type": "markdown",
      "metadata": {
        "id": "YlRfd5rI8cm9"
      },
      "source": [
        "- Personal Allowance:"
      ]
    },
    {
      "cell_type": "code",
      "execution_count": 44,
      "metadata": {
        "cellView": "form",
        "colab": {
          "base_uri": "https://localhost:8080/",
          "height": 542
        },
        "id": "MeT0diTy8d5d",
        "outputId": "561c3d44-cc2a-43c3-8bdc-258cd5ea34ff"
      },
      "outputs": [
        {
          "data": {
            "text/html": [
              "<html>\n",
              "<head><meta charset=\"utf-8\" /></head>\n",
              "<body>\n",
              "    <div>            <script src=\"https://cdnjs.cloudflare.com/ajax/libs/mathjax/2.7.5/MathJax.js?config=TeX-AMS-MML_SVG\"></script><script type=\"text/javascript\">if (window.MathJax && window.MathJax.Hub && window.MathJax.Hub.Config) {window.MathJax.Hub.Config({SVG: {font: \"STIX-Web\"}});}</script>                <script type=\"text/javascript\">window.PlotlyConfig = {MathJaxConfig: 'local'};</script>\n",
              "        <script charset=\"utf-8\" src=\"https://cdn.plot.ly/plotly-2.24.1.min.js\"></script>                <div id=\"78abec79-8554-4696-94fe-82350b1f7311\" class=\"plotly-graph-div\" style=\"height:525px; width:100%;\"></div>            <script type=\"text/javascript\">                                    window.PLOTLYENV=window.PLOTLYENV || {};                                    if (document.getElementById(\"78abec79-8554-4696-94fe-82350b1f7311\")) {                    Plotly.newPlot(                        \"78abec79-8554-4696-94fe-82350b1f7311\",                        [{\"hovertemplate\":\"Date=%{x}\\u003cbr\\u003eAllowance Amount=%{y}\\u003cextra\\u003e\\u003c\\u002fextra\\u003e\",\"legendgroup\":\"\",\"line\":{\"color\":\"#636efa\",\"dash\":\"solid\"},\"marker\":{\"symbol\":\"circle\"},\"mode\":\"markers+lines\",\"name\":\"\",\"orientation\":\"v\",\"showlegend\":false,\"x\":[\"2015-04-06\",\"2017-04-06\",\"2018-04-06\",\"2019-04-06\",\"2021-04-06\",\"2025-04-06\"],\"xaxis\":\"x\",\"y\":[10600,11500,11850,12500,12570,12570],\"yaxis\":\"y\",\"type\":\"scatter\"}],                        {\"template\":{\"data\":{\"histogram2dcontour\":[{\"type\":\"histogram2dcontour\",\"colorbar\":{\"outlinewidth\":0,\"ticks\":\"\"},\"colorscale\":[[0.0,\"#0d0887\"],[0.1111111111111111,\"#46039f\"],[0.2222222222222222,\"#7201a8\"],[0.3333333333333333,\"#9c179e\"],[0.4444444444444444,\"#bd3786\"],[0.5555555555555556,\"#d8576b\"],[0.6666666666666666,\"#ed7953\"],[0.7777777777777778,\"#fb9f3a\"],[0.8888888888888888,\"#fdca26\"],[1.0,\"#f0f921\"]]}],\"choropleth\":[{\"type\":\"choropleth\",\"colorbar\":{\"outlinewidth\":0,\"ticks\":\"\"}}],\"histogram2d\":[{\"type\":\"histogram2d\",\"colorbar\":{\"outlinewidth\":0,\"ticks\":\"\"},\"colorscale\":[[0.0,\"#0d0887\"],[0.1111111111111111,\"#46039f\"],[0.2222222222222222,\"#7201a8\"],[0.3333333333333333,\"#9c179e\"],[0.4444444444444444,\"#bd3786\"],[0.5555555555555556,\"#d8576b\"],[0.6666666666666666,\"#ed7953\"],[0.7777777777777778,\"#fb9f3a\"],[0.8888888888888888,\"#fdca26\"],[1.0,\"#f0f921\"]]}],\"heatmap\":[{\"type\":\"heatmap\",\"colorbar\":{\"outlinewidth\":0,\"ticks\":\"\"},\"colorscale\":[[0.0,\"#0d0887\"],[0.1111111111111111,\"#46039f\"],[0.2222222222222222,\"#7201a8\"],[0.3333333333333333,\"#9c179e\"],[0.4444444444444444,\"#bd3786\"],[0.5555555555555556,\"#d8576b\"],[0.6666666666666666,\"#ed7953\"],[0.7777777777777778,\"#fb9f3a\"],[0.8888888888888888,\"#fdca26\"],[1.0,\"#f0f921\"]]}],\"heatmapgl\":[{\"type\":\"heatmapgl\",\"colorbar\":{\"outlinewidth\":0,\"ticks\":\"\"},\"colorscale\":[[0.0,\"#0d0887\"],[0.1111111111111111,\"#46039f\"],[0.2222222222222222,\"#7201a8\"],[0.3333333333333333,\"#9c179e\"],[0.4444444444444444,\"#bd3786\"],[0.5555555555555556,\"#d8576b\"],[0.6666666666666666,\"#ed7953\"],[0.7777777777777778,\"#fb9f3a\"],[0.8888888888888888,\"#fdca26\"],[1.0,\"#f0f921\"]]}],\"contourcarpet\":[{\"type\":\"contourcarpet\",\"colorbar\":{\"outlinewidth\":0,\"ticks\":\"\"}}],\"contour\":[{\"type\":\"contour\",\"colorbar\":{\"outlinewidth\":0,\"ticks\":\"\"},\"colorscale\":[[0.0,\"#0d0887\"],[0.1111111111111111,\"#46039f\"],[0.2222222222222222,\"#7201a8\"],[0.3333333333333333,\"#9c179e\"],[0.4444444444444444,\"#bd3786\"],[0.5555555555555556,\"#d8576b\"],[0.6666666666666666,\"#ed7953\"],[0.7777777777777778,\"#fb9f3a\"],[0.8888888888888888,\"#fdca26\"],[1.0,\"#f0f921\"]]}],\"surface\":[{\"type\":\"surface\",\"colorbar\":{\"outlinewidth\":0,\"ticks\":\"\"},\"colorscale\":[[0.0,\"#0d0887\"],[0.1111111111111111,\"#46039f\"],[0.2222222222222222,\"#7201a8\"],[0.3333333333333333,\"#9c179e\"],[0.4444444444444444,\"#bd3786\"],[0.5555555555555556,\"#d8576b\"],[0.6666666666666666,\"#ed7953\"],[0.7777777777777778,\"#fb9f3a\"],[0.8888888888888888,\"#fdca26\"],[1.0,\"#f0f921\"]]}],\"mesh3d\":[{\"type\":\"mesh3d\",\"colorbar\":{\"outlinewidth\":0,\"ticks\":\"\"}}],\"scatter\":[{\"fillpattern\":{\"fillmode\":\"overlay\",\"size\":10,\"solidity\":0.2},\"type\":\"scatter\"}],\"parcoords\":[{\"type\":\"parcoords\",\"line\":{\"colorbar\":{\"outlinewidth\":0,\"ticks\":\"\"}}}],\"scatterpolargl\":[{\"type\":\"scatterpolargl\",\"marker\":{\"colorbar\":{\"outlinewidth\":0,\"ticks\":\"\"}}}],\"bar\":[{\"error_x\":{\"color\":\"#2a3f5f\"},\"error_y\":{\"color\":\"#2a3f5f\"},\"marker\":{\"line\":{\"color\":\"#E5ECF6\",\"width\":0.5},\"pattern\":{\"fillmode\":\"overlay\",\"size\":10,\"solidity\":0.2}},\"type\":\"bar\"}],\"scattergeo\":[{\"type\":\"scattergeo\",\"marker\":{\"colorbar\":{\"outlinewidth\":0,\"ticks\":\"\"}}}],\"scatterpolar\":[{\"type\":\"scatterpolar\",\"marker\":{\"colorbar\":{\"outlinewidth\":0,\"ticks\":\"\"}}}],\"histogram\":[{\"marker\":{\"pattern\":{\"fillmode\":\"overlay\",\"size\":10,\"solidity\":0.2}},\"type\":\"histogram\"}],\"scattergl\":[{\"type\":\"scattergl\",\"marker\":{\"colorbar\":{\"outlinewidth\":0,\"ticks\":\"\"}}}],\"scatter3d\":[{\"type\":\"scatter3d\",\"line\":{\"colorbar\":{\"outlinewidth\":0,\"ticks\":\"\"}},\"marker\":{\"colorbar\":{\"outlinewidth\":0,\"ticks\":\"\"}}}],\"scattermapbox\":[{\"type\":\"scattermapbox\",\"marker\":{\"colorbar\":{\"outlinewidth\":0,\"ticks\":\"\"}}}],\"scatterternary\":[{\"type\":\"scatterternary\",\"marker\":{\"colorbar\":{\"outlinewidth\":0,\"ticks\":\"\"}}}],\"scattercarpet\":[{\"type\":\"scattercarpet\",\"marker\":{\"colorbar\":{\"outlinewidth\":0,\"ticks\":\"\"}}}],\"carpet\":[{\"aaxis\":{\"endlinecolor\":\"#2a3f5f\",\"gridcolor\":\"white\",\"linecolor\":\"white\",\"minorgridcolor\":\"white\",\"startlinecolor\":\"#2a3f5f\"},\"baxis\":{\"endlinecolor\":\"#2a3f5f\",\"gridcolor\":\"white\",\"linecolor\":\"white\",\"minorgridcolor\":\"white\",\"startlinecolor\":\"#2a3f5f\"},\"type\":\"carpet\"}],\"table\":[{\"cells\":{\"fill\":{\"color\":\"#EBF0F8\"},\"line\":{\"color\":\"white\"}},\"header\":{\"fill\":{\"color\":\"#C8D4E3\"},\"line\":{\"color\":\"white\"}},\"type\":\"table\"}],\"barpolar\":[{\"marker\":{\"line\":{\"color\":\"#E5ECF6\",\"width\":0.5},\"pattern\":{\"fillmode\":\"overlay\",\"size\":10,\"solidity\":0.2}},\"type\":\"barpolar\"}],\"pie\":[{\"automargin\":true,\"type\":\"pie\"}]},\"layout\":{\"autotypenumbers\":\"strict\",\"colorway\":[\"#636efa\",\"#EF553B\",\"#00cc96\",\"#ab63fa\",\"#FFA15A\",\"#19d3f3\",\"#FF6692\",\"#B6E880\",\"#FF97FF\",\"#FECB52\"],\"font\":{\"color\":\"#2a3f5f\"},\"hovermode\":\"closest\",\"hoverlabel\":{\"align\":\"left\"},\"paper_bgcolor\":\"white\",\"plot_bgcolor\":\"#E5ECF6\",\"polar\":{\"bgcolor\":\"#E5ECF6\",\"angularaxis\":{\"gridcolor\":\"white\",\"linecolor\":\"white\",\"ticks\":\"\"},\"radialaxis\":{\"gridcolor\":\"white\",\"linecolor\":\"white\",\"ticks\":\"\"}},\"ternary\":{\"bgcolor\":\"#E5ECF6\",\"aaxis\":{\"gridcolor\":\"white\",\"linecolor\":\"white\",\"ticks\":\"\"},\"baxis\":{\"gridcolor\":\"white\",\"linecolor\":\"white\",\"ticks\":\"\"},\"caxis\":{\"gridcolor\":\"white\",\"linecolor\":\"white\",\"ticks\":\"\"}},\"coloraxis\":{\"colorbar\":{\"outlinewidth\":0,\"ticks\":\"\"}},\"colorscale\":{\"sequential\":[[0.0,\"#0d0887\"],[0.1111111111111111,\"#46039f\"],[0.2222222222222222,\"#7201a8\"],[0.3333333333333333,\"#9c179e\"],[0.4444444444444444,\"#bd3786\"],[0.5555555555555556,\"#d8576b\"],[0.6666666666666666,\"#ed7953\"],[0.7777777777777778,\"#fb9f3a\"],[0.8888888888888888,\"#fdca26\"],[1.0,\"#f0f921\"]],\"sequentialminus\":[[0.0,\"#0d0887\"],[0.1111111111111111,\"#46039f\"],[0.2222222222222222,\"#7201a8\"],[0.3333333333333333,\"#9c179e\"],[0.4444444444444444,\"#bd3786\"],[0.5555555555555556,\"#d8576b\"],[0.6666666666666666,\"#ed7953\"],[0.7777777777777778,\"#fb9f3a\"],[0.8888888888888888,\"#fdca26\"],[1.0,\"#f0f921\"]],\"diverging\":[[0,\"#8e0152\"],[0.1,\"#c51b7d\"],[0.2,\"#de77ae\"],[0.3,\"#f1b6da\"],[0.4,\"#fde0ef\"],[0.5,\"#f7f7f7\"],[0.6,\"#e6f5d0\"],[0.7,\"#b8e186\"],[0.8,\"#7fbc41\"],[0.9,\"#4d9221\"],[1,\"#276419\"]]},\"xaxis\":{\"gridcolor\":\"white\",\"linecolor\":\"white\",\"ticks\":\"\",\"title\":{\"standoff\":15},\"zerolinecolor\":\"white\",\"automargin\":true,\"zerolinewidth\":2},\"yaxis\":{\"gridcolor\":\"white\",\"linecolor\":\"white\",\"ticks\":\"\",\"title\":{\"standoff\":15},\"zerolinecolor\":\"white\",\"automargin\":true,\"zerolinewidth\":2},\"scene\":{\"xaxis\":{\"backgroundcolor\":\"#E5ECF6\",\"gridcolor\":\"white\",\"linecolor\":\"white\",\"showbackground\":true,\"ticks\":\"\",\"zerolinecolor\":\"white\",\"gridwidth\":2},\"yaxis\":{\"backgroundcolor\":\"#E5ECF6\",\"gridcolor\":\"white\",\"linecolor\":\"white\",\"showbackground\":true,\"ticks\":\"\",\"zerolinecolor\":\"white\",\"gridwidth\":2},\"zaxis\":{\"backgroundcolor\":\"#E5ECF6\",\"gridcolor\":\"white\",\"linecolor\":\"white\",\"showbackground\":true,\"ticks\":\"\",\"zerolinecolor\":\"white\",\"gridwidth\":2}},\"shapedefaults\":{\"line\":{\"color\":\"#2a3f5f\"}},\"annotationdefaults\":{\"arrowcolor\":\"#2a3f5f\",\"arrowhead\":0,\"arrowwidth\":1},\"geo\":{\"bgcolor\":\"white\",\"landcolor\":\"#E5ECF6\",\"subunitcolor\":\"white\",\"showland\":true,\"showlakes\":true,\"lakecolor\":\"white\"},\"title\":{\"x\":0.05},\"mapbox\":{\"style\":\"light\"}}},\"xaxis\":{\"anchor\":\"y\",\"domain\":[0.0,1.0],\"title\":{\"text\":\"Date\"}},\"yaxis\":{\"anchor\":\"x\",\"domain\":[0.0,1.0],\"title\":{\"text\":\"Allowance Amount\"}},\"legend\":{\"tracegroupgap\":0},\"title\":{\"text\":\"Personal Allowance Over Time\"}},                        {\"responsive\": true}                    ).then(function(){\n",
              "                            \n",
              "var gd = document.getElementById('78abec79-8554-4696-94fe-82350b1f7311');\n",
              "var x = new MutationObserver(function (mutations, observer) {{\n",
              "        var display = window.getComputedStyle(gd).display;\n",
              "        if (!display || display === 'none') {{\n",
              "            console.log([gd, 'removed!']);\n",
              "            Plotly.purge(gd);\n",
              "            observer.disconnect();\n",
              "        }}\n",
              "}});\n",
              "\n",
              "// Listen for the removal of the full notebook cells\n",
              "var notebookContainer = gd.closest('#notebook-container');\n",
              "if (notebookContainer) {{\n",
              "    x.observe(notebookContainer, {childList: true});\n",
              "}}\n",
              "\n",
              "// Listen for the clearing of the current output cell\n",
              "var outputEl = gd.closest('.output');\n",
              "if (outputEl) {{\n",
              "    x.observe(outputEl, {childList: true});\n",
              "}}\n",
              "\n",
              "                        })                };                            </script>        </div>\n",
              "</body>\n",
              "</html>"
            ]
          },
          "metadata": {},
          "output_type": "display_data"
        }
      ],
      "source": [
        "# @title\n",
        "import plotly.express as px\n",
        "import pandas as pd\n",
        "\n",
        "dates = ['2015-04-06', '2017-04-06', '2018-04-06', '2019-04-06', '2021-04-06', '2025-04-06']\n",
        "values = [10600, 11500, 11850, 12500, 12570, 12570]\n",
        "\n",
        "df = pd.DataFrame({\n",
        "    'Date': dates,\n",
        "    'Allowance Amount': values\n",
        "})\n",
        "\n",
        "fig = px.line(df, x='Date', y='Allowance Amount', title='Personal Allowance Over Time', markers=True)\n",
        "fig.show()\n"
      ]
    },
    {
      "cell_type": "markdown",
      "metadata": {
        "id": "qmpkKy-a8-WU"
      },
      "source": [
        "- Personal Savings Allowance:"
      ]
    },
    {
      "cell_type": "code",
      "execution_count": 46,
      "metadata": {
        "cellView": "form",
        "colab": {
          "base_uri": "https://localhost:8080/"
        },
        "id": "qSuYNkJi9CwG",
        "outputId": "12ffcd0b-96eb-4822-a694-9939abace5ba"
      },
      "outputs": [
        {
          "name": "stdout",
          "output_type": "stream",
          "text": [
            "+------------+-----------------------------------------------+--------------------+\n",
            "| Name       | Description                                   | Value              |\n",
            "+============+===============================================+====================+\n",
            "| additional | Savings allowance in the additional threshold | 2005-06-01: £0     |\n",
            "+------------+-----------------------------------------------+--------------------+\n",
            "| basic      | Savings allowance in the basic threshold      | 2005-06-01: £1,000 |\n",
            "+------------+-----------------------------------------------+--------------------+\n",
            "| higher     | Savings allowance in the higher threshold     | 2005-06-01: £500   |\n",
            "+------------+-----------------------------------------------+--------------------+\n"
          ]
        }
      ],
      "source": [
        "# @title\n",
        "personal_savings_allowance_data = [\n",
        "    {\n",
        "        \"Name\": \"additional\",\n",
        "        \"Description\": \"Savings allowance in the additional threshold\",\n",
        "        \"Value\": \"2005-06-01: 0\"\n",
        "    },\n",
        "    {\n",
        "        \"Name\": \"basic\",\n",
        "        \"Description\": \"Savings allowance in the basic threshold\",\n",
        "        \"Value\": \"2005-06-01: 1,000\"\n",
        "    },\n",
        "    {\n",
        "        \"Name\": \"higher\",\n",
        "        \"Description\": \"Savings allowance in the higher threshold\",\n",
        "        \"Value\": \"2005-06-01: 500\"\n",
        "    }\n",
        "]\n",
        "\n",
        "print(tabulate(personal_savings_allowance_data, headers='keys', tablefmt='grid'))"
      ]
    },
    {
      "cell_type": "markdown",
      "metadata": {
        "id": "c47yF49J9eid"
      },
      "source": [
        "- Dividend Allowance:"
      ]
    },
    {
      "cell_type": "code",
      "execution_count": 48,
      "metadata": {
        "cellView": "form",
        "colab": {
          "base_uri": "https://localhost:8080/"
        },
        "id": "ebCKGBSX9hmD",
        "outputId": "9e4602a3-1f1c-4deb-f78c-e5d4c5793773"
      },
      "outputs": [
        {
          "name": "stdout",
          "output_type": "stream",
          "text": [
            "+--------------------+--------------------------------------------+--------------------+\n",
            "| Name               | Description                                | Value              |\n",
            "+====================+============================================+====================+\n",
            "| dividend_allowance | Amount of dividend income untaxed per year | 2015-06-05: £2,000 |\n",
            "+--------------------+--------------------------------------------+--------------------+\n"
          ]
        }
      ],
      "source": [
        "# @title\n",
        "dividend_allowance_data = [\n",
        "    {\n",
        "        \"Name\": \"dividend_allowance\",\n",
        "        \"Description\": \"Amount of dividend income untaxed per year\",\n",
        "        \"Value\": \"2015-06-05: £2,000\"\n",
        "    }\n",
        "]\n",
        "\n",
        "print(tabulate(dividend_allowance_data, headers='keys', tablefmt='grid'))"
      ]
    },
    {
      "cell_type": "markdown",
      "metadata": {
        "id": "roxvVQx6CGgJ"
      },
      "source": [
        "- Property Allowance:"
      ]
    },
    {
      "cell_type": "code",
      "execution_count": 50,
      "metadata": {
        "cellView": "form",
        "colab": {
          "base_uri": "https://localhost:8080/"
        },
        "id": "49dxnShlCl8z",
        "outputId": "0f6d8363-44d9-4a37-8065-7199eafac8c3"
      },
      "outputs": [
        {
          "name": "stdout",
          "output_type": "stream",
          "text": [
            "+--------------------+-------------------------------------------------+-------------------+\n",
            "| Name               | Description                                     | Value             |\n",
            "+====================+=================================================+===================+\n",
            "| property_allowance | Amount of income from property untaxed per year | 2005-06-01: 1,000 |\n",
            "+--------------------+-------------------------------------------------+-------------------+\n"
          ]
        }
      ],
      "source": [
        "# @title\n",
        "property_allowance_data = [\n",
        "    {\n",
        "        \"Name\": \"property_allowance\",\n",
        "        \"Description\": \"Amount of income from property untaxed per year\",\n",
        "        \"Value\": \"2005-06-01: 1,000\"\n",
        "    }\n",
        "]\n",
        "\n",
        "print(tabulate(property_allowance_data, headers='keys', tablefmt='grid'))\n"
      ]
    },
    {
      "cell_type": "markdown",
      "metadata": {
        "id": "SKBFVXmDCzMN"
      },
      "source": [
        "- Trading Allowance:"
      ]
    },
    {
      "cell_type": "code",
      "execution_count": 51,
      "metadata": {
        "cellView": "form",
        "colab": {
          "base_uri": "https://localhost:8080/"
        },
        "id": "CHKvIiE9C7Xh",
        "outputId": "581780e5-7322-46a8-efc7-df62d1c7b24f"
      },
      "outputs": [
        {
          "name": "stdout",
          "output_type": "stream",
          "text": [
            "+-------------------+-------------------------------------------+-------------------+\n",
            "| Name              | Description                               | Value             |\n",
            "+===================+===========================================+===================+\n",
            "| trading_allowance | Amount of trading income untaxed per year | 2005-06-01: 1,000 |\n",
            "+-------------------+-------------------------------------------+-------------------+\n"
          ]
        }
      ],
      "source": [
        "# @title\n",
        "trading_allowance_data = [\n",
        "    {\n",
        "        \"Name\": \"trading_allowance\",\n",
        "        \"Description\": \"Amount of trading income untaxed per year\",\n",
        "        \"Value\": \"2005-06-01: 1,000\"\n",
        "    }\n",
        "]\n",
        "\n",
        "print(tabulate(trading_allowance_data, headers='keys', tablefmt='grid'))\n"
      ]
    },
    {
      "cell_type": "markdown",
      "metadata": {
        "id": "EsP8rEhFDppo"
      },
      "source": [
        "Other income tax parameters can be found in policyengine-uk/policyengine_uk/parameters/gov/hmrc/income_tax."
      ]
    }
  ],
  "metadata": {
    "colab": {
      "provenance": []
    },
    "kernelspec": {
      "display_name": "Python 3",
      "name": "python3"
    },
    "language_info": {
      "name": "python",
      "version": "3.9.7"
    }
  },
  "nbformat": 4,
  "nbformat_minor": 0
}
