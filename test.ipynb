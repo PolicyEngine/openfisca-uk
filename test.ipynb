{
 "cells": [
  {
   "cell_type": "code",
   "execution_count": null,
   "metadata": {},
   "outputs": [],
   "source": [
    "from policyengine_uk import Microsimulation\n",
    "from policyengine_core.reforms import Reform\n",
    "\n",
    "reform = Reform.from_dict(\n",
    "    {\n",
    "        \"gov.hmrc.national_insurance.class_1.rates.employer\": {\n",
    "            \"2024-01-01.2100-12-31\": 0.21\n",
    "        }\n",
    "    },\n",
    "    country_id=\"uk\",\n",
    ")\n",
    "\n",
    "\n",
    "baseline = Microsimulation()\n",
    "reformed = Microsimulation(reform=reform)\n",
    "baseline_income = baseline.calculate(\"household_net_income\", period=2024)\n",
    "reformed_income = reformed.calculate(\"household_net_income\", period=2024)\n",
    "difference_income = reformed_income - baseline_income"
   ]
  }
 ],
 "metadata": {
  "kernelspec": {
   "display_name": "base",
   "language": "python",
   "name": "python3"
  },
  "language_info": {
   "codemirror_mode": {
    "name": "ipython",
    "version": 3
   },
   "file_extension": ".py",
   "mimetype": "text/x-python",
   "name": "python",
   "nbconvert_exporter": "python",
   "pygments_lexer": "ipython3",
   "version": "3.10.14"
  }
 },
 "nbformat": 4,
 "nbformat_minor": 2
}
